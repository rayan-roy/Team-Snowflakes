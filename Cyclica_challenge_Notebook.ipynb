{
  "cells": [
    {
      "cell_type": "markdown",
      "metadata": {
        "id": "view-in-github",
        "colab_type": "text"
      },
      "source": [
        "<a href=\"https://colab.research.google.com/github/rayan-roy/Team-Snowflakes/blob/main/Cyclica_challenge_Notebook.ipynb\" target=\"_parent\"><img src=\"https://colab.research.google.com/assets/colab-badge.svg\" alt=\"Open In Colab\"/></a>"
      ]
    },
    {
      "cell_type": "markdown",
      "source": [
        "\n",
        "**Business Context**\n",
        "\n",
        "Cyclica has mapped all verifiable drug binding sites onto AlphaFold2 protein structures. They have then labeled each protein residue as 'drug binding' or 'non-drug binding'. Moreover, they have generated data-rich features for each residue in the dataset, derived exclusively from the AF2-predicted protein structure using standard structural biology tools.\n"
      ],
      "metadata": {
        "id": "iPPtubRYmdjV"
      },
      "id": "iPPtubRYmdjV"
    },
    {
      "cell_type": "markdown",
      "source": [
        "**Problem Statement**\n",
        "\n",
        "Our goal is to build a classification model to predict the drug binding sites on AlphaFold2-predicted proteins. We do this by:\n",
        "\n",
        "1.  Classifying residue as either 'drug binding site' or 'non-binding site'\n",
        "2.  Listing out the most important features/columns for drug binding\n",
        "\n"
      ],
      "metadata": {
        "id": "jtCRjYGnnd6p"
      },
      "id": "jtCRjYGnnd6p"
    },
    {
      "cell_type": "markdown",
      "source": [
        "## Exploratory Data Analysis"
      ],
      "metadata": {
        "id": "KzSAKTeKuF7h"
      },
      "id": "KzSAKTeKuF7h"
    },
    {
      "cell_type": "code",
      "source": [
        "from google.colab import drive\n",
        "drive.mount('/content/drive')"
      ],
      "metadata": {
        "colab": {
          "base_uri": "https://localhost:8080/"
        },
        "id": "TSbB3pOhtMDp",
        "outputId": "9fce24e9-408f-4220-c0e9-0ce2e31bf113"
      },
      "id": "TSbB3pOhtMDp",
      "execution_count": 35,
      "outputs": [
        {
          "output_type": "stream",
          "name": "stdout",
          "text": [
            "Drive already mounted at /content/drive; to attempt to forcibly remount, call drive.mount(\"/content/drive\", force_remount=True).\n"
          ]
        }
      ]
    },
    {
      "cell_type": "code",
      "source": [
        "#Importing packages\n",
        "import numpy as np\n",
        "import pandas as pd\n",
        "from sklearn.model_selection import train_test_split, cross_validate, RepeatedStratifiedKFold\n",
        "from sklearn import metrics\n",
        "from sklearn.ensemble import RandomForestClassifier\n",
        "from sklearn.metrics import confusion_matrix, precision_score, recall_score, auc, f1_score, roc_curve, roc_auc_score, classification_report, precision_recall_curve\n",
        "from imblearn.ensemble import BalancedRandomForestClassifier\n",
        "import xgboost\n",
        "import lightgbm\n",
        "from lightgbm import LGBMClassifier\n",
        "from statistics import mean"
      ],
      "metadata": {
        "id": "HTV2Q2pNFQgz"
      },
      "id": "HTV2Q2pNFQgz",
      "execution_count": 36,
      "outputs": []
    },
    {
      "cell_type": "code",
      "execution_count": 37,
      "id": "78641f6a-b67b-47cd-bf24-a8a27b402513",
      "metadata": {
        "execution": {
          "iopub.execute_input": "2023-02-05T15:44:18.871407Z",
          "iopub.status.busy": "2023-02-05T15:44:18.871108Z",
          "iopub.status.idle": "2023-02-05T15:44:20.669330Z",
          "shell.execute_reply": "2023-02-05T15:44:20.669046Z",
          "shell.execute_reply.started": "2023-02-05T15:44:18.871382Z"
        },
        "tags": [],
        "id": "78641f6a-b67b-47cd-bf24-a8a27b402513",
        "outputId": "aca98a3e-482d-4971-a9c8-d41631c464e0",
        "colab": {
          "base_uri": "https://localhost:8080/",
          "height": 300
        }
      },
      "outputs": [
        {
          "output_type": "execute_result",
          "data": {
            "text/plain": [
              "  annotation_sequence  feat_A  feat_C  feat_D  feat_E  feat_F  feat_G  feat_H  \\\n",
              "0                   M   False   False   False   False   False   False   False   \n",
              "1                   G   False   False   False   False   False    True   False   \n",
              "2                   Q   False   False   False   False   False   False   False   \n",
              "3                   E   False   False   False    True   False   False   False   \n",
              "4                   P   False   False   False   False   False   False   False   \n",
              "\n",
              "   feat_I  feat_K  ...  feat_DSSP_10  feat_DSSP_11  feat_DSSP_12  \\\n",
              "0   False   False  ...             0           0.0            47   \n",
              "1   False   False  ...             0           0.0             0   \n",
              "2   False   False  ...             1          -0.0            -1   \n",
              "3   False   False  ...           706          -0.1           705   \n",
              "4   False   False  ...             0           0.0           705   \n",
              "\n",
              "   feat_DSSP_13    coord_X  coord_Y    coord_Z        entry  entry_index  \\\n",
              "0          -0.0 -26.499001   -4.742 -35.189999  GEMI5_HUMAN            0   \n",
              "1           0.0 -25.158001   -1.342 -34.104000  GEMI5_HUMAN            1   \n",
              "2          -0.0 -21.926001   -1.641 -32.175999  GEMI5_HUMAN            2   \n",
              "3          -0.0 -22.073999    0.654 -29.171000  GEMI5_HUMAN            3   \n",
              "4          -0.2 -19.783001    2.670 -26.858999  GEMI5_HUMAN            4   \n",
              "\n",
              "   y_Ligand  \n",
              "0     False  \n",
              "1     False  \n",
              "2     False  \n",
              "3     False  \n",
              "4     False  \n",
              "\n",
              "[5 rows x 50 columns]"
            ],
            "text/html": [
              "\n",
              "  <div id=\"df-41548f1f-463e-4ddf-9bc5-fce8a1d20417\">\n",
              "    <div class=\"colab-df-container\">\n",
              "      <div>\n",
              "<style scoped>\n",
              "    .dataframe tbody tr th:only-of-type {\n",
              "        vertical-align: middle;\n",
              "    }\n",
              "\n",
              "    .dataframe tbody tr th {\n",
              "        vertical-align: top;\n",
              "    }\n",
              "\n",
              "    .dataframe thead th {\n",
              "        text-align: right;\n",
              "    }\n",
              "</style>\n",
              "<table border=\"1\" class=\"dataframe\">\n",
              "  <thead>\n",
              "    <tr style=\"text-align: right;\">\n",
              "      <th></th>\n",
              "      <th>annotation_sequence</th>\n",
              "      <th>feat_A</th>\n",
              "      <th>feat_C</th>\n",
              "      <th>feat_D</th>\n",
              "      <th>feat_E</th>\n",
              "      <th>feat_F</th>\n",
              "      <th>feat_G</th>\n",
              "      <th>feat_H</th>\n",
              "      <th>feat_I</th>\n",
              "      <th>feat_K</th>\n",
              "      <th>...</th>\n",
              "      <th>feat_DSSP_10</th>\n",
              "      <th>feat_DSSP_11</th>\n",
              "      <th>feat_DSSP_12</th>\n",
              "      <th>feat_DSSP_13</th>\n",
              "      <th>coord_X</th>\n",
              "      <th>coord_Y</th>\n",
              "      <th>coord_Z</th>\n",
              "      <th>entry</th>\n",
              "      <th>entry_index</th>\n",
              "      <th>y_Ligand</th>\n",
              "    </tr>\n",
              "  </thead>\n",
              "  <tbody>\n",
              "    <tr>\n",
              "      <th>0</th>\n",
              "      <td>M</td>\n",
              "      <td>False</td>\n",
              "      <td>False</td>\n",
              "      <td>False</td>\n",
              "      <td>False</td>\n",
              "      <td>False</td>\n",
              "      <td>False</td>\n",
              "      <td>False</td>\n",
              "      <td>False</td>\n",
              "      <td>False</td>\n",
              "      <td>...</td>\n",
              "      <td>0</td>\n",
              "      <td>0.0</td>\n",
              "      <td>47</td>\n",
              "      <td>-0.0</td>\n",
              "      <td>-26.499001</td>\n",
              "      <td>-4.742</td>\n",
              "      <td>-35.189999</td>\n",
              "      <td>GEMI5_HUMAN</td>\n",
              "      <td>0</td>\n",
              "      <td>False</td>\n",
              "    </tr>\n",
              "    <tr>\n",
              "      <th>1</th>\n",
              "      <td>G</td>\n",
              "      <td>False</td>\n",
              "      <td>False</td>\n",
              "      <td>False</td>\n",
              "      <td>False</td>\n",
              "      <td>False</td>\n",
              "      <td>True</td>\n",
              "      <td>False</td>\n",
              "      <td>False</td>\n",
              "      <td>False</td>\n",
              "      <td>...</td>\n",
              "      <td>0</td>\n",
              "      <td>0.0</td>\n",
              "      <td>0</td>\n",
              "      <td>0.0</td>\n",
              "      <td>-25.158001</td>\n",
              "      <td>-1.342</td>\n",
              "      <td>-34.104000</td>\n",
              "      <td>GEMI5_HUMAN</td>\n",
              "      <td>1</td>\n",
              "      <td>False</td>\n",
              "    </tr>\n",
              "    <tr>\n",
              "      <th>2</th>\n",
              "      <td>Q</td>\n",
              "      <td>False</td>\n",
              "      <td>False</td>\n",
              "      <td>False</td>\n",
              "      <td>False</td>\n",
              "      <td>False</td>\n",
              "      <td>False</td>\n",
              "      <td>False</td>\n",
              "      <td>False</td>\n",
              "      <td>False</td>\n",
              "      <td>...</td>\n",
              "      <td>1</td>\n",
              "      <td>-0.0</td>\n",
              "      <td>-1</td>\n",
              "      <td>-0.0</td>\n",
              "      <td>-21.926001</td>\n",
              "      <td>-1.641</td>\n",
              "      <td>-32.175999</td>\n",
              "      <td>GEMI5_HUMAN</td>\n",
              "      <td>2</td>\n",
              "      <td>False</td>\n",
              "    </tr>\n",
              "    <tr>\n",
              "      <th>3</th>\n",
              "      <td>E</td>\n",
              "      <td>False</td>\n",
              "      <td>False</td>\n",
              "      <td>False</td>\n",
              "      <td>True</td>\n",
              "      <td>False</td>\n",
              "      <td>False</td>\n",
              "      <td>False</td>\n",
              "      <td>False</td>\n",
              "      <td>False</td>\n",
              "      <td>...</td>\n",
              "      <td>706</td>\n",
              "      <td>-0.1</td>\n",
              "      <td>705</td>\n",
              "      <td>-0.0</td>\n",
              "      <td>-22.073999</td>\n",
              "      <td>0.654</td>\n",
              "      <td>-29.171000</td>\n",
              "      <td>GEMI5_HUMAN</td>\n",
              "      <td>3</td>\n",
              "      <td>False</td>\n",
              "    </tr>\n",
              "    <tr>\n",
              "      <th>4</th>\n",
              "      <td>P</td>\n",
              "      <td>False</td>\n",
              "      <td>False</td>\n",
              "      <td>False</td>\n",
              "      <td>False</td>\n",
              "      <td>False</td>\n",
              "      <td>False</td>\n",
              "      <td>False</td>\n",
              "      <td>False</td>\n",
              "      <td>False</td>\n",
              "      <td>...</td>\n",
              "      <td>0</td>\n",
              "      <td>0.0</td>\n",
              "      <td>705</td>\n",
              "      <td>-0.2</td>\n",
              "      <td>-19.783001</td>\n",
              "      <td>2.670</td>\n",
              "      <td>-26.858999</td>\n",
              "      <td>GEMI5_HUMAN</td>\n",
              "      <td>4</td>\n",
              "      <td>False</td>\n",
              "    </tr>\n",
              "  </tbody>\n",
              "</table>\n",
              "<p>5 rows × 50 columns</p>\n",
              "</div>\n",
              "      <button class=\"colab-df-convert\" onclick=\"convertToInteractive('df-41548f1f-463e-4ddf-9bc5-fce8a1d20417')\"\n",
              "              title=\"Convert this dataframe to an interactive table.\"\n",
              "              style=\"display:none;\">\n",
              "        \n",
              "  <svg xmlns=\"http://www.w3.org/2000/svg\" height=\"24px\"viewBox=\"0 0 24 24\"\n",
              "       width=\"24px\">\n",
              "    <path d=\"M0 0h24v24H0V0z\" fill=\"none\"/>\n",
              "    <path d=\"M18.56 5.44l.94 2.06.94-2.06 2.06-.94-2.06-.94-.94-2.06-.94 2.06-2.06.94zm-11 1L8.5 8.5l.94-2.06 2.06-.94-2.06-.94L8.5 2.5l-.94 2.06-2.06.94zm10 10l.94 2.06.94-2.06 2.06-.94-2.06-.94-.94-2.06-.94 2.06-2.06.94z\"/><path d=\"M17.41 7.96l-1.37-1.37c-.4-.4-.92-.59-1.43-.59-.52 0-1.04.2-1.43.59L10.3 9.45l-7.72 7.72c-.78.78-.78 2.05 0 2.83L4 21.41c.39.39.9.59 1.41.59.51 0 1.02-.2 1.41-.59l7.78-7.78 2.81-2.81c.8-.78.8-2.07 0-2.86zM5.41 20L4 18.59l7.72-7.72 1.47 1.35L5.41 20z\"/>\n",
              "  </svg>\n",
              "      </button>\n",
              "      \n",
              "  <style>\n",
              "    .colab-df-container {\n",
              "      display:flex;\n",
              "      flex-wrap:wrap;\n",
              "      gap: 12px;\n",
              "    }\n",
              "\n",
              "    .colab-df-convert {\n",
              "      background-color: #E8F0FE;\n",
              "      border: none;\n",
              "      border-radius: 50%;\n",
              "      cursor: pointer;\n",
              "      display: none;\n",
              "      fill: #1967D2;\n",
              "      height: 32px;\n",
              "      padding: 0 0 0 0;\n",
              "      width: 32px;\n",
              "    }\n",
              "\n",
              "    .colab-df-convert:hover {\n",
              "      background-color: #E2EBFA;\n",
              "      box-shadow: 0px 1px 2px rgba(60, 64, 67, 0.3), 0px 1px 3px 1px rgba(60, 64, 67, 0.15);\n",
              "      fill: #174EA6;\n",
              "    }\n",
              "\n",
              "    [theme=dark] .colab-df-convert {\n",
              "      background-color: #3B4455;\n",
              "      fill: #D2E3FC;\n",
              "    }\n",
              "\n",
              "    [theme=dark] .colab-df-convert:hover {\n",
              "      background-color: #434B5C;\n",
              "      box-shadow: 0px 1px 3px 1px rgba(0, 0, 0, 0.15);\n",
              "      filter: drop-shadow(0px 1px 2px rgba(0, 0, 0, 0.3));\n",
              "      fill: #FFFFFF;\n",
              "    }\n",
              "  </style>\n",
              "\n",
              "      <script>\n",
              "        const buttonEl =\n",
              "          document.querySelector('#df-41548f1f-463e-4ddf-9bc5-fce8a1d20417 button.colab-df-convert');\n",
              "        buttonEl.style.display =\n",
              "          google.colab.kernel.accessAllowed ? 'block' : 'none';\n",
              "\n",
              "        async function convertToInteractive(key) {\n",
              "          const element = document.querySelector('#df-41548f1f-463e-4ddf-9bc5-fce8a1d20417');\n",
              "          const dataTable =\n",
              "            await google.colab.kernel.invokeFunction('convertToInteractive',\n",
              "                                                     [key], {});\n",
              "          if (!dataTable) return;\n",
              "\n",
              "          const docLinkHtml = 'Like what you see? Visit the ' +\n",
              "            '<a target=\"_blank\" href=https://colab.research.google.com/notebooks/data_table.ipynb>data table notebook</a>'\n",
              "            + ' to learn more about interactive tables.';\n",
              "          element.innerHTML = '';\n",
              "          dataTable['output_type'] = 'display_data';\n",
              "          await google.colab.output.renderOutput(dataTable, element);\n",
              "          const docLink = document.createElement('div');\n",
              "          docLink.innerHTML = docLinkHtml;\n",
              "          element.appendChild(docLink);\n",
              "        }\n",
              "      </script>\n",
              "    </div>\n",
              "  </div>\n",
              "  "
            ]
          },
          "metadata": {},
          "execution_count": 37
        }
      ],
      "source": [
        "df_train = pd.read_csv(\"/content/drive/MyDrive/af2_dataset_training_labeled.csv.gz\", index_col=0)\n",
        "df_train.head(5)"
      ]
    },
    {
      "cell_type": "markdown",
      "source": [
        "All the variable containing *feat_** are boolean in nature in order to represent the different amino acid sequence"
      ],
      "metadata": {
        "id": "rdT3vPxZza4D"
      },
      "id": "rdT3vPxZza4D"
    },
    {
      "cell_type": "code",
      "source": [
        "df_train.isna().sum() "
      ],
      "metadata": {
        "colab": {
          "base_uri": "https://localhost:8080/"
        },
        "id": "XqGN4-fjtkOh",
        "outputId": "afc686cc-c550-47c1-d953-5b1c11a584ac"
      },
      "id": "XqGN4-fjtkOh",
      "execution_count": 38,
      "outputs": [
        {
          "output_type": "execute_result",
          "data": {
            "text/plain": [
              "annotation_sequence        0\n",
              "feat_A                     0\n",
              "feat_C                     0\n",
              "feat_D                     0\n",
              "feat_E                     0\n",
              "feat_F                     0\n",
              "feat_G                     0\n",
              "feat_H                     0\n",
              "feat_I                     0\n",
              "feat_K                     0\n",
              "feat_L                     0\n",
              "feat_M                     0\n",
              "feat_N                     0\n",
              "feat_P                     0\n",
              "feat_Q                     0\n",
              "feat_R                     0\n",
              "feat_S                     0\n",
              "feat_T                     0\n",
              "feat_V                     0\n",
              "feat_W                     0\n",
              "feat_Y                     0\n",
              "annotation_atomrec     12689\n",
              "feat_PHI                   0\n",
              "feat_PSI                   0\n",
              "feat_TAU                   0\n",
              "feat_THETA                 0\n",
              "feat_BBSASA                0\n",
              "feat_SCSASA                0\n",
              "feat_pLDDT                 0\n",
              "feat_DSSP_H                0\n",
              "feat_DSSP_B                0\n",
              "feat_DSSP_E                0\n",
              "feat_DSSP_G                0\n",
              "feat_DSSP_I                0\n",
              "feat_DSSP_T                0\n",
              "feat_DSSP_S                0\n",
              "feat_DSSP_6                0\n",
              "feat_DSSP_7                0\n",
              "feat_DSSP_8                0\n",
              "feat_DSSP_9                0\n",
              "feat_DSSP_10               0\n",
              "feat_DSSP_11               0\n",
              "feat_DSSP_12               0\n",
              "feat_DSSP_13               0\n",
              "coord_X                    0\n",
              "coord_Y                    0\n",
              "coord_Z                    0\n",
              "entry                      0\n",
              "entry_index                0\n",
              "y_Ligand                   0\n",
              "dtype: int64"
            ]
          },
          "metadata": {},
          "execution_count": 38
        }
      ]
    },
    {
      "cell_type": "markdown",
      "source": [
        "Only annotation atomrec has missing values. We also found out that *annotation_atomrec* variable and *annotation_sequence* are identical"
      ],
      "metadata": {
        "id": "u_kl2_7zqCQa"
      },
      "id": "u_kl2_7zqCQa"
    },
    {
      "cell_type": "markdown",
      "source": [
        "We will be removing all the optional columns that was provided to us except the x,y,z coordinates. We fitted model using these columns but got very poor scores"
      ],
      "metadata": {
        "id": "HzOTOOY5qGJq"
      },
      "id": "HzOTOOY5qGJq"
    },
    {
      "cell_type": "code",
      "source": [
        "df_train = df_train.drop(columns =['annotation_atomrec','annotation_sequence','entry', 'entry_index'], axis = 1)"
      ],
      "metadata": {
        "id": "d2Wbb4RieLU_"
      },
      "id": "d2Wbb4RieLU_",
      "execution_count": 39,
      "outputs": []
    },
    {
      "cell_type": "code",
      "source": [
        "df_train.dtypes"
      ],
      "metadata": {
        "colab": {
          "base_uri": "https://localhost:8080/"
        },
        "id": "ht1dDlLCJ-7A",
        "outputId": "e115a4a5-371b-401a-8e7f-7887febfea54"
      },
      "id": "ht1dDlLCJ-7A",
      "execution_count": 40,
      "outputs": [
        {
          "output_type": "execute_result",
          "data": {
            "text/plain": [
              "feat_A             bool\n",
              "feat_C             bool\n",
              "feat_D             bool\n",
              "feat_E             bool\n",
              "feat_F             bool\n",
              "feat_G             bool\n",
              "feat_H             bool\n",
              "feat_I             bool\n",
              "feat_K             bool\n",
              "feat_L             bool\n",
              "feat_M             bool\n",
              "feat_N             bool\n",
              "feat_P             bool\n",
              "feat_Q             bool\n",
              "feat_R             bool\n",
              "feat_S             bool\n",
              "feat_T             bool\n",
              "feat_V             bool\n",
              "feat_W             bool\n",
              "feat_Y             bool\n",
              "feat_PHI        float64\n",
              "feat_PSI        float64\n",
              "feat_TAU        float64\n",
              "feat_THETA      float64\n",
              "feat_BBSASA     float64\n",
              "feat_SCSASA     float64\n",
              "feat_pLDDT      float64\n",
              "feat_DSSP_H        bool\n",
              "feat_DSSP_B        bool\n",
              "feat_DSSP_E        bool\n",
              "feat_DSSP_G        bool\n",
              "feat_DSSP_I        bool\n",
              "feat_DSSP_T        bool\n",
              "feat_DSSP_S        bool\n",
              "feat_DSSP_6       int64\n",
              "feat_DSSP_7     float64\n",
              "feat_DSSP_8       int64\n",
              "feat_DSSP_9     float64\n",
              "feat_DSSP_10      int64\n",
              "feat_DSSP_11    float64\n",
              "feat_DSSP_12      int64\n",
              "feat_DSSP_13    float64\n",
              "coord_X         float64\n",
              "coord_Y         float64\n",
              "coord_Z         float64\n",
              "y_Ligand           bool\n",
              "dtype: object"
            ]
          },
          "metadata": {},
          "execution_count": 40
        }
      ]
    },
    {
      "cell_type": "markdown",
      "source": [
        "As we can see there are lot of Boolean values. We will convert them into numeric values."
      ],
      "metadata": {
        "id": "kAa0b8W5qJA7"
      },
      "id": "kAa0b8W5qJA7"
    },
    {
      "cell_type": "code",
      "source": [
        "df_train = df_train.applymap(lambda x: 1 if x == True else x)\n",
        "df_train = df_train.applymap(lambda x: 0 if x == False else x)"
      ],
      "metadata": {
        "id": "QZJzIPYrp-P-"
      },
      "id": "QZJzIPYrp-P-",
      "execution_count": 41,
      "outputs": []
    },
    {
      "cell_type": "markdown",
      "source": [
        "We will also be exploring the SCSASA which describes the solvent accessible surface area. Ideally these values should not be negative."
      ],
      "metadata": {
        "id": "DgW-5jWrtC1F"
      },
      "id": "DgW-5jWrtC1F"
    },
    {
      "cell_type": "code",
      "source": [
        "len(df_train[df_train.feat_SCSASA < 0])"
      ],
      "metadata": {
        "colab": {
          "base_uri": "https://localhost:8080/"
        },
        "id": "eJlcGhqxtDix",
        "outputId": "f2c97a65-4ffb-445e-bb7b-e0bd8b729b1e"
      },
      "id": "eJlcGhqxtDix",
      "execution_count": 42,
      "outputs": [
        {
          "output_type": "execute_result",
          "data": {
            "text/plain": [
              "3386"
            ]
          },
          "metadata": {},
          "execution_count": 42
        }
      ]
    },
    {
      "cell_type": "markdown",
      "source": [
        "As we can there are several negative SCSASA values. We will make all of them 0 if they are negative."
      ],
      "metadata": {
        "id": "0kajz7J4tz0y"
      },
      "id": "0kajz7J4tz0y"
    },
    {
      "cell_type": "code",
      "source": [
        "df_train[df_train.feat_SCSASA < 0] = 0"
      ],
      "metadata": {
        "id": "uRFJkNktt9Wl"
      },
      "id": "uRFJkNktt9Wl",
      "execution_count": 43,
      "outputs": []
    },
    {
      "cell_type": "markdown",
      "source": [
        "Lets explore the dependent variable using barplot"
      ],
      "metadata": {
        "id": "A8MZ_VCQsV3O"
      },
      "id": "A8MZ_VCQsV3O"
    },
    {
      "cell_type": "code",
      "source": [
        "import warnings\n",
        "warnings.filterwarnings(\"ignore\")\n",
        "import seaborn as sns\n",
        "import matplotlib.pyplot as plt\n",
        "plt.figure(figsize=(12,8))\n",
        "sns.countplot(df_train.y_Ligand)"
      ],
      "metadata": {
        "colab": {
          "base_uri": "https://localhost:8080/",
          "height": 515
        },
        "id": "EUCHW1V7sbRZ",
        "outputId": "36cd5484-c460-425d-e7e1-8f6c3f4ea9fa"
      },
      "id": "EUCHW1V7sbRZ",
      "execution_count": 44,
      "outputs": [
        {
          "output_type": "execute_result",
          "data": {
            "text/plain": [
              "<AxesSubplot:xlabel='y_Ligand', ylabel='count'>"
            ]
          },
          "metadata": {},
          "execution_count": 44
        },
        {
          "output_type": "display_data",
          "data": {
            "text/plain": [
              "<Figure size 864x576 with 1 Axes>"
            ],
            "image/png": "[encoded data removed]"
          },
          "metadata": {
            "needs_background": "light"
          }
        }
      ]
    },
    {
      "cell_type": "code",
      "source": [
        "df_train.y_Ligand.value_counts()/df_train.shape[0]"
      ],
      "metadata": {
        "colab": {
          "base_uri": "https://localhost:8080/"
        },
        "id": "AnUBRpjiEJha",
        "outputId": "20c2701e-5595-42a0-b101-06fc9614ce40"
      },
      "id": "AnUBRpjiEJha",
      "execution_count": 45,
      "outputs": [
        {
          "output_type": "execute_result",
          "data": {
            "text/plain": [
              "0    0.965643\n",
              "1    0.034357\n",
              "Name: y_Ligand, dtype: float64"
            ]
          },
          "metadata": {},
          "execution_count": 45
        }
      ]
    },
    {
      "cell_type": "markdown",
      "source": [
        "We see that 96% is false and 3.4% is True (i.e binding). The dataset is highly imbalanced."
      ],
      "metadata": {
        "id": "VjxjOl31qWVT"
      },
      "id": "VjxjOl31qWVT"
    },
    {
      "cell_type": "markdown",
      "source": [
        "## Model Building"
      ],
      "metadata": {
        "id": "bdvbWxdtuLwz"
      },
      "id": "bdvbWxdtuLwz"
    },
    {
      "cell_type": "markdown",
      "source": [
        "Maybe we could add that first, you have to split into training and test set using stratify. Then second, to correct imbalance you eventually need to run oversampling or undersampling on the training set. Many Sklearn classifier has a parameter called class-weight which you can set to balanced. Finally you could also take a more appropriate metric than accuracy for imbalanced dataset. Try, F1 or area under ROC"
      ],
      "metadata": {
        "id": "gQxGX7NJy6NL"
      },
      "id": "gQxGX7NJy6NL"
    },
    {
      "cell_type": "markdown",
      "source": [
        " We will be using stratifying in test train split to maintain the balance of dataset."
      ],
      "metadata": {
        "id": "Y_agxiG-si7G"
      },
      "id": "Y_agxiG-si7G"
    },
    {
      "cell_type": "code",
      "execution_count": 46,
      "id": "92eca4c5",
      "metadata": {
        "id": "92eca4c5"
      },
      "outputs": [],
      "source": [
        "X = df_train.drop([\"y_Ligand\"], axis=1)\n",
        "Y = df_train[\"y_Ligand\"].astype('int') # converted to integer\n",
        "X_train, X_test, y_train, y_test = train_test_split(X, Y, test_size=0.3, random_state=42, stratify = Y)"
      ]
    },
    {
      "cell_type": "markdown",
      "source": [
        "Lets try **Random Forest Classifier Model**"
      ],
      "metadata": {
        "id": "XTuCh1KiuTa-"
      },
      "id": "XTuCh1KiuTa-"
    },
    {
      "cell_type": "code",
      "source": [
        "# Random Forest\n",
        "rf = RandomForestClassifier(n_estimators = 100, class_weight='balanced')\n",
        "rf.fit(X_train,y_train)\n",
        "y_test_predrf = rf.predict(X_test)"
      ],
      "metadata": {
        "id": "JrhQ5XyML_oY"
      },
      "id": "JrhQ5XyML_oY",
      "execution_count": 47,
      "outputs": []
    },
    {
      "cell_type": "code",
      "source": [
        "fpr, tpr, thresholds = metrics.roc_curve(y_test, y_test_predrf, pos_label=1)\n",
        "auc_roc = metrics.auc(fpr, tpr)\n",
        "print('Recall of RF on test set: {:.2f}'.format(recall_score(y_test, y_test_predrf, average='binary'))) \n",
        "print('Precision of RF on test set: {:.2f}'.format(precision_score(y_test, y_test_predrf))) \n",
        "print('F1 score of RF on test set: {:.2f}'.format(f1_score(y_test, y_test_predrf, average='weighted'))) # to account for disbalance\n",
        "precision, recall, _ = precision_recall_curve(y_test, y_test_predrf)\n",
        "auc_pr = auc(recall, precision)\n",
        "\n",
        "precision, recall, _ = metrics.precision_recall_curve(y_test, y_test_predrf)\n",
        "auc_pr = metrics.auc(recall, precision)\n",
        "\n",
        "print(f\"ROC-AUC of RF on test set: {auc_roc}\")\n",
        "print(f\"PR-AUC of RF on test set: {auc_pr}\")"
      ],
      "metadata": {
        "colab": {
          "base_uri": "https://localhost:8080/"
        },
        "id": "ytu2euezL_xm",
        "outputId": "0f398b32-7c6c-4620-ba2c-393b02789e62"
      },
      "id": "ytu2euezL_xm",
      "execution_count": 48,
      "outputs": [
        {
          "output_type": "stream",
          "name": "stdout",
          "text": [
            "Recall of RF on test set: 0.12\n",
            "Precision of RF on test set: 0.89\n",
            "F1 score of RF on test set: 0.96\n",
            "ROC-AUC of RF on test set: 0.5613091486007932\n",
            "PR-AUC of RF on test set: 0.5228867759882059\n"
          ]
        }
      ]
    },
    {
      "cell_type": "markdown",
      "source": [
        "Lets try **BalancedRandom Forest Classifier** which can automatically handle imbalanced dataset"
      ],
      "metadata": {
        "id": "qpUwo7fYvTpb"
      },
      "id": "qpUwo7fYvTpb"
    },
    {
      "cell_type": "code",
      "source": [
        "# BalancedRandomForestClassifier\n",
        "BRFC = BalancedRandomForestClassifier(n_estimators=100, class_weight='balanced')\n",
        "BRFC.fit(X_train,y_train)\n",
        "y_test_predbrf = BRFC.predict(X_test)"
      ],
      "metadata": {
        "id": "oIFE0RHPL_0P"
      },
      "id": "oIFE0RHPL_0P",
      "execution_count": 49,
      "outputs": []
    },
    {
      "cell_type": "code",
      "source": [
        "fpr, tpr, thresholds = metrics.roc_curve(y_test, y_test_predbrf, pos_label=1)\n",
        "auc_roc = metrics.auc(fpr, tpr)\n",
        "precision, recall, _ = precision_recall_curve(y_test, y_test_predbrf)\n",
        "auc_pr = auc(recall, precision)\n",
        "\n",
        "print(\"Recall of BRF on test set:\",metrics.recall_score(y_test, y_test_predbrf,average='binary')) \n",
        "print('Precision of BRF on test set: {:.2f}'.format(precision_score(y_test, y_test_predbrf))) \n",
        "print('F1 score of BRF on test set: {:.2f}'.format(f1_score(y_test, y_test_predbrf, average='weighted'))) # to account for disbalance\n",
        "\n",
        "print(f\"ROC-AUC of BRF on test set: {auc_roc}\")\n",
        "print(f\"PR-AUC of BRF on test set: {auc_pr}\")"
      ],
      "metadata": {
        "colab": {
          "base_uri": "https://localhost:8080/"
        },
        "id": "nHrNmCv5iB8g",
        "outputId": "31db05e3-eab1-4d87-bd69-4d7f34d2752b"
      },
      "id": "nHrNmCv5iB8g",
      "execution_count": 50,
      "outputs": [
        {
          "output_type": "stream",
          "name": "stdout",
          "text": [
            "Recall of BRF on test set: 0.7455113192818111\n",
            "Precision of BRF on test set: 0.11\n",
            "F1 score of BRF on test set: 0.85\n",
            "ROC-AUC of BRF on test set: 0.7641294393751202\n",
            "PR-AUC of BRF on test set: 0.43152755350104327\n"
          ]
        }
      ]
    },
    {
      "cell_type": "markdown",
      "source": [
        "Lets try **XgBoost classifier model**"
      ],
      "metadata": {
        "id": "1PwqN6rtxISU"
      },
      "id": "1PwqN6rtxISU"
    },
    {
      "cell_type": "code",
      "source": [
        "# XgBoost\n",
        "xgb = xgboost.XGBClassifier()\n",
        "xgb.fit(X_train, y_train)\n",
        "y_test_predxg = xgb.predict(X_test)\n",
        "\n",
        "fpr, tpr, thresholds = metrics.roc_curve(y_test, y_test_predxg, pos_label=1)\n",
        "auc_roc = metrics.auc(fpr, tpr)\n",
        "precision, recall, _ = precision_recall_curve(y_test, y_test_predxg)\n",
        "auc_pr = auc(recall, precision)\n",
        "\n",
        "print(\"Recall of XGB on test set:\",metrics.recall_score(y_test, y_test_predxg,average='binary')) \n",
        "print('Precision of XGB on test set: {:.2f}'.format(precision_score(y_test, y_test_predxg))) \n",
        "print('F1 score of XGB on test set: {:.2f}'.format(f1_score(y_test, y_test_predxg, average='weighted'))) # to account for disbalance\n",
        "\n",
        "print(f\"ROC-AUC of XGB on test set: {auc_roc}\")\n",
        "print(f\"PR-AUC of XGB on test set: {auc_pr}\")"
      ],
      "metadata": {
        "colab": {
          "base_uri": "https://localhost:8080/"
        },
        "id": "njE_XJO4L_3j",
        "outputId": "94536506-7029-4fb4-ffbd-fe2a2c0d527a"
      },
      "id": "njE_XJO4L_3j",
      "execution_count": 51,
      "outputs": [
        {
          "output_type": "stream",
          "name": "stdout",
          "text": [
            "Recall of XGB on test set: 0.00234192037470726\n",
            "Precision of XGB on test set: 0.92\n",
            "F1 score of XGB on test set: 0.95\n",
            "ROC-AUC of XGB on test set: 0.5011674885919473\n",
            "PR-AUC of XGB on test set: 0.4798465320174679\n"
          ]
        }
      ]
    },
    {
      "cell_type": "markdown",
      "source": [
        "We will also try **LightGBM classifier** and see if there are any improvements."
      ],
      "metadata": {
        "id": "xRSsbwSWxb8_"
      },
      "id": "xRSsbwSWxb8_"
    },
    {
      "cell_type": "code",
      "execution_count": 52,
      "id": "35c56708",
      "metadata": {
        "id": "35c56708",
        "outputId": "06e93c1c-3be8-4306-ac7a-ca30947527ee",
        "colab": {
          "base_uri": "https://localhost:8080/"
        }
      },
      "outputs": [
        {
          "output_type": "stream",
          "name": "stdout",
          "text": [
            "Recall of LightGBM on test set: 0.10480093676814989\n",
            "Precision of LightGBM on test set: 0.69\n",
            "F1 score of LightGBM on test set: 0.96\n",
            "ROC-AUC of LightGBM on test set: 0.5515811718681681\n",
            "PR-AUC of LightGBM on test set: 0.41512560031972234\n"
          ]
        }
      ],
      "source": [
        "lgbm = LGBMClassifier(objective='binary')\n",
        "lgbm.fit(X_train,y_train)\n",
        "y_test_predlgbm = lgbm.predict(X_test)\n",
        "\n",
        "fpr, tpr, thresholds = metrics.roc_curve(y_test, y_test_predlgbm, pos_label=1)\n",
        "auc_roc = metrics.auc(fpr, tpr)\n",
        "precision, recall, _ = precision_recall_curve(y_test, y_test_predlgbm)\n",
        "auc_pr = auc(recall, precision)\n",
        "\n",
        "print(\"Recall of LightGBM on test set:\",metrics.recall_score(y_test, y_test_predlgbm,average='binary')) \n",
        "print('Precision of LightGBM on test set: {:.2f}'.format(precision_score(y_test, y_test_predlgbm))) \n",
        "print('F1 score of LightGBM on test set: {:.2f}'.format(f1_score(y_test, y_test_predlgbm, average='weighted'))) # to account for disbalance\n",
        "\n",
        "print(f\"ROC-AUC of LightGBM on test set: {auc_roc}\")\n",
        "print(f\"PR-AUC of LightGBM on test set: {auc_pr}\")"
      ]
    },
    {
      "cell_type": "markdown",
      "source": [
        "Look at the above models, it seems like BalancedRandomForest performed the best. We will further test it on a small resampled dataset and then cross validate it to ensure its consistent."
      ],
      "metadata": {
        "id": "u4cK28nyyBi_"
      },
      "id": "u4cK28nyyBi_"
    },
    {
      "cell_type": "markdown",
      "source": [
        "#### Testing on a smaller sample"
      ],
      "metadata": {
        "id": "mt7aIeSUyQhf"
      },
      "id": "mt7aIeSUyQhf"
    },
    {
      "cell_type": "code",
      "source": [
        "df_true = df_train[df_train[\"y_Ligand\"] == 1]\n",
        "df_false = df_train[df_train[\"y_Ligand\"] == 0]\n",
        "df_fsamp = df_false.sample(n=20000, random_state=37)\n",
        "df_balanced = pd.concat([df_true, df_fsamp])\n",
        "df_bal_X = df_balanced.drop([\"y_Ligand\"], axis=1)\n",
        "df_bal_Y = df_balanced[\"y_Ligand\"]\n",
        "\n",
        "X_train_sam, X_test_sam, y_train_sam, y_test_sam = train_test_split(df_bal_X, df_bal_Y, test_size=0.3, random_state=42, stratify = df_bal_Y)\n",
        "BRFC_sam = BalancedRandomForestClassifier(n_estimators=100, class_weight='balanced')\n",
        "BRFC_sam.fit(X_train_sam,y_train_sam)\n",
        "y_test_predbrf_sam = BRFC_sam.predict(X_test_sam)"
      ],
      "metadata": {
        "id": "Onov9dELyb6I"
      },
      "id": "Onov9dELyb6I",
      "execution_count": 53,
      "outputs": []
    },
    {
      "cell_type": "code",
      "source": [
        "fpr, tpr, thresholds = metrics.roc_curve(y_test_sam, y_test_predbrf_sam, pos_label=1)\n",
        "auc_roc = metrics.auc(fpr, tpr)\n",
        "precision, recall, _ = precision_recall_curve(y_test_sam, y_test_predbrf_sam)\n",
        "auc_pr = auc(recall, precision)\n",
        "\n",
        "print(\"Recall of RBF_sample on test set:\",metrics.recall_score(y_test_sam, y_test_predbrf_sam,average='binary')) \n",
        "print('Precision of RBF_sample on test set: {:.2f}'.format(precision_score(y_test_sam, y_test_predbrf_sam))) \n",
        "print('F1 score of RBF_sample on test set: {:.2f}'.format(f1_score(y_test_sam, y_test_predbrf_sam, average='weighted'))) # to account for disbalance\n",
        "\n",
        "print(f\"ROC-AUC of RBF_sample on test set: {auc_roc}\")\n",
        "print(f\"PR-AUC of RBF_sample on test set: {auc_pr}\")"
      ],
      "metadata": {
        "colab": {
          "base_uri": "https://localhost:8080/"
        },
        "id": "At0Rl6j-yjvr",
        "outputId": "1408b483-3c0e-409f-e991-f5e217de53e9"
      },
      "id": "At0Rl6j-yjvr",
      "execution_count": 54,
      "outputs": [
        {
          "output_type": "stream",
          "name": "stdout",
          "text": [
            "Recall of RBF_sample on test set: 0.7923902439024391\n",
            "Precision of RBF_sample on test set: 0.73\n",
            "F1 score of RBF_sample on test set: 0.77\n",
            "ROC-AUC of RBF_sample on test set: 0.7733617886178861\n",
            "PR-AUC of RBF_sample on test set: 0.8108626818103387\n"
          ]
        }
      ]
    },
    {
      "cell_type": "markdown",
      "source": [
        "The RBF model performed quite well on the sample set"
      ],
      "metadata": {
        "id": "d1KjV3N6y5eA"
      },
      "id": "d1KjV3N6y5eA"
    },
    {
      "cell_type": "markdown",
      "source": [
        "### Cross validation"
      ],
      "metadata": {
        "id": "rzuNaB3Zy-NY"
      },
      "id": "rzuNaB3Zy-NY"
    },
    {
      "cell_type": "markdown",
      "source": [
        "We will be using RepeatedStratifiedKFold in order to preserve the classes in imbalanced dataset"
      ],
      "metadata": {
        "id": "tH--vzcjzDYg"
      },
      "id": "tH--vzcjzDYg"
    },
    {
      "cell_type": "code",
      "execution_count": 55,
      "id": "d5a8d98a",
      "metadata": {
        "id": "d5a8d98a",
        "colab": {
          "base_uri": "https://localhost:8080/"
        },
        "outputId": "82b4da9b-4704-41b6-e46b-05af6f5ef2e8"
      },
      "outputs": [
        {
          "output_type": "stream",
          "name": "stdout",
          "text": [
            "Mean f1 for RBF: 0.194\n",
            "Mean recall for RBF: 0.759\n",
            "Mean precision for RBF: 0.111\n",
            "Mean ROC-AUC for RBF: 0.864\n",
            "Mean balanced_accuracy for RBF: 0.772\n"
          ]
        }
      ],
      "source": [
        "# Cross validation\n",
        "cv = RepeatedStratifiedKFold(n_splits=10, n_repeats=3, random_state=1)\n",
        "scoring = ('f1', 'recall', 'precision', 'roc_auc', 'balanced_accuracy')\n",
        "#Evaluate BRFC model\n",
        "scores = cross_validate(BRFC, X, Y, scoring=scoring, cv=cv)\n",
        "#Get average evaluation metrics\n",
        "print('Mean f1 for RBF: %.3f' % mean(scores['test_f1']))\n",
        "print('Mean recall for RBF: %.3f' % mean(scores['test_recall']))\n",
        "print('Mean precision for RBF: %.3f' % mean(scores['test_precision']))\n",
        "print('Mean ROC-AUC for RBF: %.3f' % mean(scores['test_roc_auc']))\n",
        "print('Mean balanced_accuracy for RBF: %.3f' % mean(scores['test_balanced_accuracy']))"
      ]
    },
    {
      "cell_type": "code",
      "source": [
        "BRFC_sam.feature_importances_"
      ],
      "metadata": {
        "colab": {
          "base_uri": "https://localhost:8080/"
        },
        "id": "19abfhtq9h4J",
        "outputId": "a7ea576b-e7c3-44cc-843d-8a8d66b1cd50"
      },
      "id": "19abfhtq9h4J",
      "execution_count": 56,
      "outputs": [
        {
          "output_type": "execute_result",
          "data": {
            "text/plain": [
              "array([0.00322116, 0.00182953, 0.00323203, 0.00369012, 0.00376174,\n",
              "       0.00308269, 0.00191254, 0.00301592, 0.00339222, 0.00465448,\n",
              "       0.00201718, 0.00262879, 0.00190766, 0.00269327, 0.00322368,\n",
              "       0.00333703, 0.00281307, 0.00417923, 0.00190206, 0.00343933,\n",
              "       0.04462605, 0.04569481, 0.04371291, 0.04898699, 0.05805363,\n",
              "       0.07543161, 0.114923  , 0.00724703, 0.00099134, 0.00454538,\n",
              "       0.00216309, 0.00066865, 0.00401793, 0.00378035, 0.0341973 ,\n",
              "       0.04317267, 0.02827498, 0.03417951, 0.02989584, 0.02443302,\n",
              "       0.03324643, 0.02497489, 0.07261676, 0.07846276, 0.08176937])"
            ]
          },
          "metadata": {},
          "execution_count": 56
        }
      ]
    },
    {
      "cell_type": "code",
      "source": [
        "fi = pd.DataFrame(rf.feature_importances_, index=X.columns, columns=['Importance'])\n",
        "fi = fi.sort_values('Importance')\n",
        "fi.plot.barh(figsize=(12,7))"
      ],
      "metadata": {
        "colab": {
          "base_uri": "https://localhost:8080/",
          "height": 445
        },
        "id": "oOkHo4sX-TG0",
        "outputId": "1f26d4b7-33e9-480a-dd79-2cd716634e1c"
      },
      "id": "oOkHo4sX-TG0",
      "execution_count": 57,
      "outputs": [
        {
          "output_type": "execute_result",
          "data": {
            "text/plain": [
              "<AxesSubplot:>"
            ]
          },
          "metadata": {},
          "execution_count": 57
        },
        {
          "output_type": "display_data",
          "data": {
            "text/plain": [
              "<Figure size 864x504 with 1 Axes>"
            ],
            "image/png": "[encoded data removed]"
          },
          "metadata": {
            "needs_background": "light"
          }
        }
      ]
    },
    {
      "cell_type": "code",
      "source": [
        "importances = BRFC.feature_importances_\n",
        "indices = np.argsort(importances)[-6:]\n",
        "print(indices)"
      ],
      "metadata": {
        "colab": {
          "base_uri": "https://localhost:8080/"
        },
        "id": "Xd4aohQn_Uig",
        "outputId": "388a7855-02c7-4bca-906d-bb92b4eb0f6f"
      },
      "id": "Xd4aohQn_Uig",
      "execution_count": 76,
      "outputs": [
        {
          "output_type": "stream",
          "name": "stdout",
          "text": [
            "[25 23 44 43 42 26]\n"
          ]
        }
      ]
    },
    {
      "cell_type": "code",
      "source": [
        "X.iloc[:, [24,25,42,43,44,26]]"
      ],
      "metadata": {
        "colab": {
          "base_uri": "https://localhost:8080/",
          "height": 424
        },
        "id": "RNipWv8r_5OJ",
        "outputId": "2ead4731-d622-48db-b3fd-553658a25885"
      },
      "id": "RNipWv8r_5OJ",
      "execution_count": 75,
      "outputs": [
        {
          "output_type": "execute_result",
          "data": {
            "text/plain": [
              "     feat_BBSASA  feat_SCSASA    coord_X    coord_Y    coord_Z  feat_pLDDT\n",
              "0      80.020602   137.023818 -26.499001  -4.742000 -35.189999       38.49\n",
              "1      69.542382     0.000000 -25.158001  -1.342000 -34.104000       46.08\n",
              "2      23.387401    88.587659 -21.926001  -1.641000 -32.175999       65.42\n",
              "3       4.908812    44.521273 -22.073999   0.654000 -29.171000       85.17\n",
              "4       9.742674    52.613700 -19.783001   2.670000 -26.858999       93.24\n",
              "..           ...          ...        ...        ...        ...         ...\n",
              "755     7.313673    48.994428 -19.742001  20.796000 -12.319000       95.81\n",
              "756    20.300374    46.103273 -16.299000  19.153999 -12.640000       96.62\n",
              "757     2.763823     0.000000 -13.404000  19.502001 -10.121000       93.61\n",
              "758    15.092203     0.000000 -10.986000  20.320000 -13.016000       93.17\n",
              "759    20.331329   148.088810  -7.456000  19.052999 -13.909000       90.71\n",
              "\n",
              "[497166 rows x 6 columns]"
            ],
            "text/html": [
              "\n",
              "  <div id=\"df-523187fc-8880-42b8-9712-c15032d48713\">\n",
              "    <div class=\"colab-df-container\">\n",
              "      <div>\n",
              "<style scoped>\n",
              "    .dataframe tbody tr th:only-of-type {\n",
              "        vertical-align: middle;\n",
              "    }\n",
              "\n",
              "    .dataframe tbody tr th {\n",
              "        vertical-align: top;\n",
              "    }\n",
              "\n",
              "    .dataframe thead th {\n",
              "        text-align: right;\n",
              "    }\n",
              "</style>\n",
              "<table border=\"1\" class=\"dataframe\">\n",
              "  <thead>\n",
              "    <tr style=\"text-align: right;\">\n",
              "      <th></th>\n",
              "      <th>feat_BBSASA</th>\n",
              "      <th>feat_SCSASA</th>\n",
              "      <th>coord_X</th>\n",
              "      <th>coord_Y</th>\n",
              "      <th>coord_Z</th>\n",
              "      <th>feat_pLDDT</th>\n",
              "    </tr>\n",
              "  </thead>\n",
              "  <tbody>\n",
              "    <tr>\n",
              "      <th>0</th>\n",
              "      <td>80.020602</td>\n",
              "      <td>137.023818</td>\n",
              "      <td>-26.499001</td>\n",
              "      <td>-4.742000</td>\n",
              "      <td>-35.189999</td>\n",
              "      <td>38.49</td>\n",
              "    </tr>\n",
              "    <tr>\n",
              "      <th>1</th>\n",
              "      <td>69.542382</td>\n",
              "      <td>0.000000</td>\n",
              "      <td>-25.158001</td>\n",
              "      <td>-1.342000</td>\n",
              "      <td>-34.104000</td>\n",
              "      <td>46.08</td>\n",
              "    </tr>\n",
              "    <tr>\n",
              "      <th>2</th>\n",
              "      <td>23.387401</td>\n",
              "      <td>88.587659</td>\n",
              "      <td>-21.926001</td>\n",
              "      <td>-1.641000</td>\n",
              "      <td>-32.175999</td>\n",
              "      <td>65.42</td>\n",
              "    </tr>\n",
              "    <tr>\n",
              "      <th>3</th>\n",
              "      <td>4.908812</td>\n",
              "      <td>44.521273</td>\n",
              "      <td>-22.073999</td>\n",
              "      <td>0.654000</td>\n",
              "      <td>-29.171000</td>\n",
              "      <td>85.17</td>\n",
              "    </tr>\n",
              "    <tr>\n",
              "      <th>4</th>\n",
              "      <td>9.742674</td>\n",
              "      <td>52.613700</td>\n",
              "      <td>-19.783001</td>\n",
              "      <td>2.670000</td>\n",
              "      <td>-26.858999</td>\n",
              "      <td>93.24</td>\n",
              "    </tr>\n",
              "    <tr>\n",
              "      <th>...</th>\n",
              "      <td>...</td>\n",
              "      <td>...</td>\n",
              "      <td>...</td>\n",
              "      <td>...</td>\n",
              "      <td>...</td>\n",
              "      <td>...</td>\n",
              "    </tr>\n",
              "    <tr>\n",
              "      <th>755</th>\n",
              "      <td>7.313673</td>\n",
              "      <td>48.994428</td>\n",
              "      <td>-19.742001</td>\n",
              "      <td>20.796000</td>\n",
              "      <td>-12.319000</td>\n",
              "      <td>95.81</td>\n",
              "    </tr>\n",
              "    <tr>\n",
              "      <th>756</th>\n",
              "      <td>20.300374</td>\n",
              "      <td>46.103273</td>\n",
              "      <td>-16.299000</td>\n",
              "      <td>19.153999</td>\n",
              "      <td>-12.640000</td>\n",
              "      <td>96.62</td>\n",
              "    </tr>\n",
              "    <tr>\n",
              "      <th>757</th>\n",
              "      <td>2.763823</td>\n",
              "      <td>0.000000</td>\n",
              "      <td>-13.404000</td>\n",
              "      <td>19.502001</td>\n",
              "      <td>-10.121000</td>\n",
              "      <td>93.61</td>\n",
              "    </tr>\n",
              "    <tr>\n",
              "      <th>758</th>\n",
              "      <td>15.092203</td>\n",
              "      <td>0.000000</td>\n",
              "      <td>-10.986000</td>\n",
              "      <td>20.320000</td>\n",
              "      <td>-13.016000</td>\n",
              "      <td>93.17</td>\n",
              "    </tr>\n",
              "    <tr>\n",
              "      <th>759</th>\n",
              "      <td>20.331329</td>\n",
              "      <td>148.088810</td>\n",
              "      <td>-7.456000</td>\n",
              "      <td>19.052999</td>\n",
              "      <td>-13.909000</td>\n",
              "      <td>90.71</td>\n",
              "    </tr>\n",
              "  </tbody>\n",
              "</table>\n",
              "<p>497166 rows × 6 columns</p>\n",
              "</div>\n",
              "      <button class=\"colab-df-convert\" onclick=\"convertToInteractive('df-523187fc-8880-42b8-9712-c15032d48713')\"\n",
              "              title=\"Convert this dataframe to an interactive table.\"\n",
              "              style=\"display:none;\">\n",
              "        \n",
              "  <svg xmlns=\"http://www.w3.org/2000/svg\" height=\"24px\"viewBox=\"0 0 24 24\"\n",
              "       width=\"24px\">\n",
              "    <path d=\"M0 0h24v24H0V0z\" fill=\"none\"/>\n",
              "    <path d=\"M18.56 5.44l.94 2.06.94-2.06 2.06-.94-2.06-.94-.94-2.06-.94 2.06-2.06.94zm-11 1L8.5 8.5l.94-2.06 2.06-.94-2.06-.94L8.5 2.5l-.94 2.06-2.06.94zm10 10l.94 2.06.94-2.06 2.06-.94-2.06-.94-.94-2.06-.94 2.06-2.06.94z\"/><path d=\"M17.41 7.96l-1.37-1.37c-.4-.4-.92-.59-1.43-.59-.52 0-1.04.2-1.43.59L10.3 9.45l-7.72 7.72c-.78.78-.78 2.05 0 2.83L4 21.41c.39.39.9.59 1.41.59.51 0 1.02-.2 1.41-.59l7.78-7.78 2.81-2.81c.8-.78.8-2.07 0-2.86zM5.41 20L4 18.59l7.72-7.72 1.47 1.35L5.41 20z\"/>\n",
              "  </svg>\n",
              "      </button>\n",
              "      \n",
              "  <style>\n",
              "    .colab-df-container {\n",
              "      display:flex;\n",
              "      flex-wrap:wrap;\n",
              "      gap: 12px;\n",
              "    }\n",
              "\n",
              "    .colab-df-convert {\n",
              "      background-color: #E8F0FE;\n",
              "      border: none;\n",
              "      border-radius: 50%;\n",
              "      cursor: pointer;\n",
              "      display: none;\n",
              "      fill: #1967D2;\n",
              "      height: 32px;\n",
              "      padding: 0 0 0 0;\n",
              "      width: 32px;\n",
              "    }\n",
              "\n",
              "    .colab-df-convert:hover {\n",
              "      background-color: #E2EBFA;\n",
              "      box-shadow: 0px 1px 2px rgba(60, 64, 67, 0.3), 0px 1px 3px 1px rgba(60, 64, 67, 0.15);\n",
              "      fill: #174EA6;\n",
              "    }\n",
              "\n",
              "    [theme=dark] .colab-df-convert {\n",
              "      background-color: #3B4455;\n",
              "      fill: #D2E3FC;\n",
              "    }\n",
              "\n",
              "    [theme=dark] .colab-df-convert:hover {\n",
              "      background-color: #434B5C;\n",
              "      box-shadow: 0px 1px 3px 1px rgba(0, 0, 0, 0.15);\n",
              "      filter: drop-shadow(0px 1px 2px rgba(0, 0, 0, 0.3));\n",
              "      fill: #FFFFFF;\n",
              "    }\n",
              "  </style>\n",
              "\n",
              "      <script>\n",
              "        const buttonEl =\n",
              "          document.querySelector('#df-523187fc-8880-42b8-9712-c15032d48713 button.colab-df-convert');\n",
              "        buttonEl.style.display =\n",
              "          google.colab.kernel.accessAllowed ? 'block' : 'none';\n",
              "\n",
              "        async function convertToInteractive(key) {\n",
              "          const element = document.querySelector('#df-523187fc-8880-42b8-9712-c15032d48713');\n",
              "          const dataTable =\n",
              "            await google.colab.kernel.invokeFunction('convertToInteractive',\n",
              "                                                     [key], {});\n",
              "          if (!dataTable) return;\n",
              "\n",
              "          const docLinkHtml = 'Like what you see? Visit the ' +\n",
              "            '<a target=\"_blank\" href=https://colab.research.google.com/notebooks/data_table.ipynb>data table notebook</a>'\n",
              "            + ' to learn more about interactive tables.';\n",
              "          element.innerHTML = '';\n",
              "          dataTable['output_type'] = 'display_data';\n",
              "          await google.colab.output.renderOutput(dataTable, element);\n",
              "          const docLink = document.createElement('div');\n",
              "          docLink.innerHTML = docLinkHtml;\n",
              "          element.appendChild(docLink);\n",
              "        }\n",
              "      </script>\n",
              "    </div>\n",
              "  </div>\n",
              "  "
            ]
          },
          "metadata": {},
          "execution_count": 75
        }
      ]
    },
    {
      "cell_type": "markdown",
      "source": [
        "Compare ROC-AUC curve for test and train:"
      ],
      "metadata": {
        "id": "pId5O3xvrsRN"
      },
      "id": "pId5O3xvrsRN"
    },
    {
      "cell_type": "code",
      "source": [
        "import matplotlib.pyplot as plt\n",
        "\n",
        "y_score2 = BRFC.predict_proba(X_test_sam)[:,1]\n",
        "fpr, tpr, thresholds = roc_curve(y_test_sam, y_score2, pos_label=1)\n",
        "plt.subplots(1, figsize=(5,5))\n",
        "plt.title('Receiver Operating Characteristic - RBF')\n",
        "plt.plot(fpr, tpr)\n",
        "plt.plot([0, 1], ls=\"--\")\n",
        "plt.plot([0, 0], [1, 0] , c=\".7\"), plt.plot([1, 1] , c=\".7\")\n",
        "plt.ylabel('True Positive Rate')\n",
        "plt.xlabel('False Positive Rate')\n",
        "plt.show()\n",
        "\n",
        "y_score3 = BRFC.predict_proba(X_train_sam)[:,1]\n",
        "fpr1, tpr1, thresholds = roc_curve(y_train_sam, y_score3, pos_label=1)\n",
        "plt.subplots(1, figsize=(5,5))\n",
        "plt.title('Receiver Operating Characteristic - RBF')\n",
        "plt.plot(fpr1, tpr1)\n",
        "plt.plot([0, 1], ls=\"--\")\n",
        "plt.plot([0, 0], [1, 0] , c=\".7\"), plt.plot([1, 1] , c=\".7\")\n",
        "plt.ylabel('True Positive Rate')\n",
        "plt.xlabel('False Positive Rate')\n",
        "plt.show()"
      ],
      "metadata": {
        "colab": {
          "base_uri": "https://localhost:8080/",
          "height": 683
        },
        "id": "kKEPYaFsNvm7",
        "outputId": "8a9442b1-779c-4397-c14c-001a35cd1667"
      },
      "id": "kKEPYaFsNvm7",
      "execution_count": 93,
      "outputs": [
        {
          "output_type": "display_data",
          "data": {
            "text/plain": [
              "<Figure size 360x360 with 1 Axes>"
            ],
            "image/png": "[encoded data removed]"
          },
          "metadata": {
            "needs_background": "light"
          }
        },
        {
          "output_type": "display_data",
          "data": {
            "text/plain": [
              "<Figure size 360x360 with 1 Axes>"
            ],
            "image/png": "[encoded data removed]"
          },
          "metadata": {
            "needs_background": "light"
          }
        }
      ]
    },
    {
      "cell_type": "markdown",
      "source": [
        "We can see that ROC AUC for both train and test are almost quite close to each other. This is to check whether there is any overfitting occuring"
      ],
      "metadata": {
        "id": "b6JoUDSAr_Pj"
      },
      "id": "b6JoUDSAr_Pj"
    },
    {
      "cell_type": "markdown",
      "source": [
        "**Based on a previous analysis of using Logistic regression (See earlier notebook), we found that 'feat_C', 'feat_D', 'feat_I', 'feat_K', 'feat_T', 'feat_V', 'feat_DSSP_12', 'feat_THETA' weren't significantly contributing. As a result, we will be removing them**"
      ],
      "metadata": {
        "id": "YYw3qUvrsJvw"
      },
      "id": "YYw3qUvrsJvw"
    },
    {
      "cell_type": "code",
      "source": [
        "df_f = df_train.drop(['feat_C', 'feat_D', 'feat_I', 'feat_K', 'feat_T', 'feat_V', 'feat_DSSP_12', 'feat_THETA'], axis=1)"
      ],
      "metadata": {
        "id": "xL5UOTK0goQA"
      },
      "id": "xL5UOTK0goQA",
      "execution_count": 100,
      "outputs": []
    },
    {
      "cell_type": "code",
      "source": [
        "X_1 = df_f.drop([\"y_Ligand\"], axis=1)\n",
        "Y_1 = df_f[\"y_Ligand\"].astype('int') # converted to integer\n",
        "X_train_1, X_test_1, y_train_1, y_test_1 = train_test_split(X_1, Y_1, test_size=0.3, random_state=42, stratify = Y_1)"
      ],
      "metadata": {
        "id": "FexsmeH8gojx"
      },
      "id": "FexsmeH8gojx",
      "execution_count": 103,
      "outputs": []
    },
    {
      "cell_type": "code",
      "source": [
        "BRFC_1 = BalancedRandomForestClassifier(n_estimators=100, class_weight='balanced')\n",
        "BRFC_1.fit(X_train_1,y_train_1)\n",
        "y_test_predbrf_1 = BRFC_1.predict(X_test_1)\n",
        "fpr, tpr, thresholds = metrics.roc_curve(y_test_1, y_test_predbrf_1, pos_label=1)\n",
        "auc_roc = metrics.auc(fpr, tpr)\n",
        "precision, recall, _ = precision_recall_curve(y_test_1, y_test_predbrf_1)\n",
        "auc_pr = auc(recall, precision)\n",
        "\n",
        "print(\"Recall of RBF_sample on test set:\",metrics.recall_score(y_test_1, y_test_predbrf_1,average='binary')) \n",
        "print('Precision of RBF_sample on test set: {:.2f}'.format(precision_score(y_test_1, y_test_predbrf_1))) \n",
        "print('F1 score of RBF_sample on test set: {:.2f}'.format(f1_score(y_test_1, y_test_predbrf_1, average='weighted'))) # to account for disbalance\n",
        "print(f\"ROC-AUC of RBF_sample on test set: {auc_roc}\")\n",
        "print(f\"PR-AUC of RBF_sample on test set: {auc_pr}\")"
      ],
      "metadata": {
        "colab": {
          "base_uri": "https://localhost:8080/"
        },
        "id": "XTORNmGEgom7",
        "outputId": "c8b97f5a-cf1b-4b05-e709-d43769f9f2cf"
      },
      "id": "XTORNmGEgom7",
      "execution_count": 104,
      "outputs": [
        {
          "output_type": "stream",
          "name": "stdout",
          "text": [
            "Recall of RBF_sample on test set: 0.7402419984387197\n",
            "Precision of RBF_sample on test set: 0.11\n",
            "F1 score of RBF_sample on test set: 0.85\n",
            "ROC-AUC of RBF_sample on test set: 0.7639596116921079\n",
            "PR-AUC of RBF_sample on test set: 0.42975706949682574\n"
          ]
        }
      ]
    },
    {
      "cell_type": "code",
      "source": [
        "# Cross validation\n",
        "cv = RepeatedStratifiedKFold(n_splits=10, n_repeats=3, random_state=1)\n",
        "scoring = ('f1', 'recall', 'precision', 'roc_auc', 'balanced_accuracy')\n",
        "#Evaluate BRFC model\n",
        "scores_1 = cross_validate(BRFC_1, X_1, Y_1, scoring=scoring, cv=cv)\n",
        "#Get average evaluation metrics\n",
        "print('Mean f1 for RBF: %.3f' % mean(scores_1['test_f1']))\n",
        "print('Mean recall for RBF: %.3f' % mean(scores_1['test_recall']))\n",
        "print('Mean precision for RBF: %.3f' % mean(scores_1['test_precision']))\n",
        "print('Mean ROC-AUC for RBF: %.3f' % mean(scores_1['test_roc_auc']))\n",
        "print('Mean balanced_accuracy for RBF: %.3f' % mean(scores_1['test_balanced_accuracy']))"
      ],
      "metadata": {
        "colab": {
          "base_uri": "https://localhost:8080/"
        },
        "id": "qj0jt1rugoqe",
        "outputId": "778a3611-8bc7-45f1-ed6a-92498669808f"
      },
      "id": "qj0jt1rugoqe",
      "execution_count": 113,
      "outputs": [
        {
          "output_type": "stream",
          "name": "stdout",
          "text": [
            "Mean f1 for RBF: 0.195\n",
            "Mean recall for RBF: 0.753\n",
            "Mean precision for RBF: 0.112\n",
            "Mean ROC-AUC for RBF: 0.860\n",
            "Mean balanced_accuracy for RBF: 0.771\n"
          ]
        }
      ]
    },
    {
      "cell_type": "markdown",
      "source": [
        "As we can see, after dropping variables we are stil getting similar results for our Balanced Random Forest Model. **Hence this is our final model**\n"
      ],
      "metadata": {
        "id": "p7FLfE9Qss6j"
      },
      "id": "p7FLfE9Qss6j"
    },
    {
      "cell_type": "code",
      "source": [
        "importances = BRFC_1.feature_importances_\n",
        "indices = np.argsort(importances)[-2:]\n",
        "print(indices)\n",
        "X_1.iloc[:, [17,18 ,36, 35, 34, 19]]"
      ],
      "metadata": {
        "colab": {
          "base_uri": "https://localhost:8080/",
          "height": 441
        },
        "id": "wlle-BlwknXe",
        "outputId": "1d890091-2d33-4232-801a-644e7f1aacd2"
      },
      "id": "wlle-BlwknXe",
      "execution_count": 112,
      "outputs": [
        {
          "output_type": "stream",
          "name": "stdout",
          "text": [
            "[34 19]\n"
          ]
        },
        {
          "output_type": "execute_result",
          "data": {
            "text/plain": [
              "     feat_BBSASA  feat_SCSASA    coord_Z    coord_Y    coord_X  feat_pLDDT\n",
              "0      80.020602   137.023818 -35.189999  -4.742000 -26.499001       38.49\n",
              "1      69.542382     0.000000 -34.104000  -1.342000 -25.158001       46.08\n",
              "2      23.387401    88.587659 -32.175999  -1.641000 -21.926001       65.42\n",
              "3       4.908812    44.521273 -29.171000   0.654000 -22.073999       85.17\n",
              "4       9.742674    52.613700 -26.858999   2.670000 -19.783001       93.24\n",
              "..           ...          ...        ...        ...        ...         ...\n",
              "755     7.313673    48.994428 -12.319000  20.796000 -19.742001       95.81\n",
              "756    20.300374    46.103273 -12.640000  19.153999 -16.299000       96.62\n",
              "757     2.763823     0.000000 -10.121000  19.502001 -13.404000       93.61\n",
              "758    15.092203     0.000000 -13.016000  20.320000 -10.986000       93.17\n",
              "759    20.331329   148.088810 -13.909000  19.052999  -7.456000       90.71\n",
              "\n",
              "[497166 rows x 6 columns]"
            ],
            "text/html": [
              "\n",
              "  <div id=\"df-5e85ca84-46fb-4d98-99a9-7f079ef20d69\">\n",
              "    <div class=\"colab-df-container\">\n",
              "      <div>\n",
              "<style scoped>\n",
              "    .dataframe tbody tr th:only-of-type {\n",
              "        vertical-align: middle;\n",
              "    }\n",
              "\n",
              "    .dataframe tbody tr th {\n",
              "        vertical-align: top;\n",
              "    }\n",
              "\n",
              "    .dataframe thead th {\n",
              "        text-align: right;\n",
              "    }\n",
              "</style>\n",
              "<table border=\"1\" class=\"dataframe\">\n",
              "  <thead>\n",
              "    <tr style=\"text-align: right;\">\n",
              "      <th></th>\n",
              "      <th>feat_BBSASA</th>\n",
              "      <th>feat_SCSASA</th>\n",
              "      <th>coord_Z</th>\n",
              "      <th>coord_Y</th>\n",
              "      <th>coord_X</th>\n",
              "      <th>feat_pLDDT</th>\n",
              "    </tr>\n",
              "  </thead>\n",
              "  <tbody>\n",
              "    <tr>\n",
              "      <th>0</th>\n",
              "      <td>80.020602</td>\n",
              "      <td>137.023818</td>\n",
              "      <td>-35.189999</td>\n",
              "      <td>-4.742000</td>\n",
              "      <td>-26.499001</td>\n",
              "      <td>38.49</td>\n",
              "    </tr>\n",
              "    <tr>\n",
              "      <th>1</th>\n",
              "      <td>69.542382</td>\n",
              "      <td>0.000000</td>\n",
              "      <td>-34.104000</td>\n",
              "      <td>-1.342000</td>\n",
              "      <td>-25.158001</td>\n",
              "      <td>46.08</td>\n",
              "    </tr>\n",
              "    <tr>\n",
              "      <th>2</th>\n",
              "      <td>23.387401</td>\n",
              "      <td>88.587659</td>\n",
              "      <td>-32.175999</td>\n",
              "      <td>-1.641000</td>\n",
              "      <td>-21.926001</td>\n",
              "      <td>65.42</td>\n",
              "    </tr>\n",
              "    <tr>\n",
              "      <th>3</th>\n",
              "      <td>4.908812</td>\n",
              "      <td>44.521273</td>\n",
              "      <td>-29.171000</td>\n",
              "      <td>0.654000</td>\n",
              "      <td>-22.073999</td>\n",
              "      <td>85.17</td>\n",
              "    </tr>\n",
              "    <tr>\n",
              "      <th>4</th>\n",
              "      <td>9.742674</td>\n",
              "      <td>52.613700</td>\n",
              "      <td>-26.858999</td>\n",
              "      <td>2.670000</td>\n",
              "      <td>-19.783001</td>\n",
              "      <td>93.24</td>\n",
              "    </tr>\n",
              "    <tr>\n",
              "      <th>...</th>\n",
              "      <td>...</td>\n",
              "      <td>...</td>\n",
              "      <td>...</td>\n",
              "      <td>...</td>\n",
              "      <td>...</td>\n",
              "      <td>...</td>\n",
              "    </tr>\n",
              "    <tr>\n",
              "      <th>755</th>\n",
              "      <td>7.313673</td>\n",
              "      <td>48.994428</td>\n",
              "      <td>-12.319000</td>\n",
              "      <td>20.796000</td>\n",
              "      <td>-19.742001</td>\n",
              "      <td>95.81</td>\n",
              "    </tr>\n",
              "    <tr>\n",
              "      <th>756</th>\n",
              "      <td>20.300374</td>\n",
              "      <td>46.103273</td>\n",
              "      <td>-12.640000</td>\n",
              "      <td>19.153999</td>\n",
              "      <td>-16.299000</td>\n",
              "      <td>96.62</td>\n",
              "    </tr>\n",
              "    <tr>\n",
              "      <th>757</th>\n",
              "      <td>2.763823</td>\n",
              "      <td>0.000000</td>\n",
              "      <td>-10.121000</td>\n",
              "      <td>19.502001</td>\n",
              "      <td>-13.404000</td>\n",
              "      <td>93.61</td>\n",
              "    </tr>\n",
              "    <tr>\n",
              "      <th>758</th>\n",
              "      <td>15.092203</td>\n",
              "      <td>0.000000</td>\n",
              "      <td>-13.016000</td>\n",
              "      <td>20.320000</td>\n",
              "      <td>-10.986000</td>\n",
              "      <td>93.17</td>\n",
              "    </tr>\n",
              "    <tr>\n",
              "      <th>759</th>\n",
              "      <td>20.331329</td>\n",
              "      <td>148.088810</td>\n",
              "      <td>-13.909000</td>\n",
              "      <td>19.052999</td>\n",
              "      <td>-7.456000</td>\n",
              "      <td>90.71</td>\n",
              "    </tr>\n",
              "  </tbody>\n",
              "</table>\n",
              "<p>497166 rows × 6 columns</p>\n",
              "</div>\n",
              "      <button class=\"colab-df-convert\" onclick=\"convertToInteractive('df-5e85ca84-46fb-4d98-99a9-7f079ef20d69')\"\n",
              "              title=\"Convert this dataframe to an interactive table.\"\n",
              "              style=\"display:none;\">\n",
              "        \n",
              "  <svg xmlns=\"http://www.w3.org/2000/svg\" height=\"24px\"viewBox=\"0 0 24 24\"\n",
              "       width=\"24px\">\n",
              "    <path d=\"M0 0h24v24H0V0z\" fill=\"none\"/>\n",
              "    <path d=\"M18.56 5.44l.94 2.06.94-2.06 2.06-.94-2.06-.94-.94-2.06-.94 2.06-2.06.94zm-11 1L8.5 8.5l.94-2.06 2.06-.94-2.06-.94L8.5 2.5l-.94 2.06-2.06.94zm10 10l.94 2.06.94-2.06 2.06-.94-2.06-.94-.94-2.06-.94 2.06-2.06.94z\"/><path d=\"M17.41 7.96l-1.37-1.37c-.4-.4-.92-.59-1.43-.59-.52 0-1.04.2-1.43.59L10.3 9.45l-7.72 7.72c-.78.78-.78 2.05 0 2.83L4 21.41c.39.39.9.59 1.41.59.51 0 1.02-.2 1.41-.59l7.78-7.78 2.81-2.81c.8-.78.8-2.07 0-2.86zM5.41 20L4 18.59l7.72-7.72 1.47 1.35L5.41 20z\"/>\n",
              "  </svg>\n",
              "      </button>\n",
              "      \n",
              "  <style>\n",
              "    .colab-df-container {\n",
              "      display:flex;\n",
              "      flex-wrap:wrap;\n",
              "      gap: 12px;\n",
              "    }\n",
              "\n",
              "    .colab-df-convert {\n",
              "      background-color: #E8F0FE;\n",
              "      border: none;\n",
              "      border-radius: 50%;\n",
              "      cursor: pointer;\n",
              "      display: none;\n",
              "      fill: #1967D2;\n",
              "      height: 32px;\n",
              "      padding: 0 0 0 0;\n",
              "      width: 32px;\n",
              "    }\n",
              "\n",
              "    .colab-df-convert:hover {\n",
              "      background-color: #E2EBFA;\n",
              "      box-shadow: 0px 1px 2px rgba(60, 64, 67, 0.3), 0px 1px 3px 1px rgba(60, 64, 67, 0.15);\n",
              "      fill: #174EA6;\n",
              "    }\n",
              "\n",
              "    [theme=dark] .colab-df-convert {\n",
              "      background-color: #3B4455;\n",
              "      fill: #D2E3FC;\n",
              "    }\n",
              "\n",
              "    [theme=dark] .colab-df-convert:hover {\n",
              "      background-color: #434B5C;\n",
              "      box-shadow: 0px 1px 3px 1px rgba(0, 0, 0, 0.15);\n",
              "      filter: drop-shadow(0px 1px 2px rgba(0, 0, 0, 0.3));\n",
              "      fill: #FFFFFF;\n",
              "    }\n",
              "  </style>\n",
              "\n",
              "      <script>\n",
              "        const buttonEl =\n",
              "          document.querySelector('#df-5e85ca84-46fb-4d98-99a9-7f079ef20d69 button.colab-df-convert');\n",
              "        buttonEl.style.display =\n",
              "          google.colab.kernel.accessAllowed ? 'block' : 'none';\n",
              "\n",
              "        async function convertToInteractive(key) {\n",
              "          const element = document.querySelector('#df-5e85ca84-46fb-4d98-99a9-7f079ef20d69');\n",
              "          const dataTable =\n",
              "            await google.colab.kernel.invokeFunction('convertToInteractive',\n",
              "                                                     [key], {});\n",
              "          if (!dataTable) return;\n",
              "\n",
              "          const docLinkHtml = 'Like what you see? Visit the ' +\n",
              "            '<a target=\"_blank\" href=https://colab.research.google.com/notebooks/data_table.ipynb>data table notebook</a>'\n",
              "            + ' to learn more about interactive tables.';\n",
              "          element.innerHTML = '';\n",
              "          dataTable['output_type'] = 'display_data';\n",
              "          await google.colab.output.renderOutput(dataTable, element);\n",
              "          const docLink = document.createElement('div');\n",
              "          docLink.innerHTML = docLinkHtml;\n",
              "          element.appendChild(docLink);\n",
              "        }\n",
              "      </script>\n",
              "    </div>\n",
              "  </div>\n",
              "  "
            ]
          },
          "metadata": {},
          "execution_count": 112
        }
      ]
    },
    {
      "cell_type": "markdown",
      "source": [
        "Hence the most important features are **feat_plDDT, coord_X, coord_Y, coord_Z, feat_SCSASA ad feat_BBSASA**"
      ],
      "metadata": {
        "id": "deRqD7lUscnl"
      },
      "id": "deRqD7lUscnl"
    },
    {
      "cell_type": "markdown",
      "id": "742476a7-4fd4-4ec1-a265-037d62f46ecd",
      "metadata": {
        "id": "742476a7-4fd4-4ec1-a265-037d62f46ecd"
      },
      "source": [
        "## Submission Instructions\n",
        "\n",
        "- Run inference on the test set and save the inference results as a csv file, the file should look like this\n",
        "```\n",
        "id,Predicted\n",
        "0,True\n",
        "1,False\n",
        "2,True\n",
        "3,False\n",
        "....\n",
        "```\n",
        "\n",
        "- Automatic evaluation will be done with ROC-AUC\n",
        "- Top submissions will be further evaluated by the mean of ROC-AUC and PR-AUC"
      ]
    },
    {
      "cell_type": "markdown",
      "source": [
        "We will be using the **Balanced Random Forest Classifier**"
      ],
      "metadata": {
        "id": "oBzfp0iqu6M-"
      },
      "id": "oBzfp0iqu6M-"
    },
    {
      "cell_type": "code",
      "source": [
        "BRFC_final = BalancedRandomForestClassifier(n_estimators=100, class_weight='balanced')\n",
        "BRFC_final.fit(X_1,Y_1)"
      ],
      "metadata": {
        "colab": {
          "base_uri": "https://localhost:8080/"
        },
        "id": "Ya7C_vMYjoGD",
        "outputId": "ae9422ad-29ba-423f-c957-901add005c86"
      },
      "id": "Ya7C_vMYjoGD",
      "execution_count": 122,
      "outputs": [
        {
          "output_type": "execute_result",
          "data": {
            "text/plain": [
              "BalancedRandomForestClassifier(class_weight='balanced')"
            ]
          },
          "metadata": {},
          "execution_count": 122
        }
      ]
    },
    {
      "cell_type": "code",
      "execution_count": 125,
      "id": "175839a9-0039-4ca8-bfb1-ecfc5aa16e47",
      "metadata": {
        "execution": {
          "iopub.execute_input": "2023-02-05T15:44:20.677130Z",
          "iopub.status.busy": "2023-02-05T15:44:20.677074Z",
          "iopub.status.idle": "2023-02-05T15:44:21.057212Z",
          "shell.execute_reply": "2023-02-05T15:44:21.056956Z",
          "shell.execute_reply.started": "2023-02-05T15:44:20.677123Z"
        },
        "tags": [],
        "id": "175839a9-0039-4ca8-bfb1-ecfc5aa16e47",
        "outputId": "d676c9de-6536-4ea1-c613-b047f18b7de8",
        "colab": {
          "base_uri": "https://localhost:8080/",
          "height": 488
        }
      },
      "outputs": [
        {
          "output_type": "execute_result",
          "data": {
            "text/plain": [
              "    annotation_sequence  feat_A  feat_C  feat_D  feat_E  feat_F  feat_G  \\\n",
              "0                     M   False   False   False   False   False   False   \n",
              "1                     A    True   False   False   False   False   False   \n",
              "2                     A    True   False   False   False   False   False   \n",
              "3                     S   False   False   False   False   False   False   \n",
              "4                     V   False   False   False   False   False   False   \n",
              "..                  ...     ...     ...     ...     ...     ...     ...   \n",
              "474                   L   False   False   False   False   False   False   \n",
              "475                   P   False   False   False   False   False   False   \n",
              "476                   Q   False   False   False   False   False   False   \n",
              "477                   E   False   False   False    True   False   False   \n",
              "478                   N   False   False   False   False   False   False   \n",
              "\n",
              "     feat_H  feat_I  feat_K  ...  feat_DSSP_9  feat_DSSP_10  feat_DSSP_11  \\\n",
              "0     False   False   False  ...          0.0             0           0.0   \n",
              "1     False   False   False  ...         -0.0             2          -0.0   \n",
              "2     False   False   False  ...         -0.1             0           0.0   \n",
              "3     False   False   False  ...         -0.1             0           0.0   \n",
              "4     False   False   False  ...          0.0             0           0.0   \n",
              "..      ...     ...     ...  ...          ...           ...           ...   \n",
              "474   False   False   False  ...         -0.5            -3          -0.3   \n",
              "475   False   False   False  ...         -0.1             0           0.0   \n",
              "476   False   False   False  ...         -0.0             0           0.0   \n",
              "477   False   False   False  ...          0.0             0           0.0   \n",
              "478   False   False   False  ...          0.0             0           0.0   \n",
              "\n",
              "     feat_DSSP_12  feat_DSSP_13    coord_X    coord_Y    coord_Z        entry  \\\n",
              "0               0           0.0  33.116001  37.023998  38.417000   QCR1_HUMAN   \n",
              "1               0           0.0  35.849998  34.841000  40.185001   QCR1_HUMAN   \n",
              "2               2          -0.0  37.087002  31.719999  40.547001   QCR1_HUMAN   \n",
              "3              -2          -0.0  38.095001  28.951000  42.321999   QCR1_HUMAN   \n",
              "4               0           0.0  41.435001  27.417000  43.703999   QCR1_HUMAN   \n",
              "..            ...           ...        ...        ...        ...          ...   \n",
              "474            -3          -0.0  47.813999   7.569000 -27.368999  PDE7A_HUMAN   \n",
              "475            -3          -0.0  50.228001   8.068000 -30.333000  PDE7A_HUMAN   \n",
              "476             0           0.0  51.507999   4.896000 -31.959999  PDE7A_HUMAN   \n",
              "477             0           0.0  54.845001   6.372000 -33.125000  PDE7A_HUMAN   \n",
              "478             0           0.0  57.796001   4.322000 -34.160000  PDE7A_HUMAN   \n",
              "\n",
              "     entry_index  \n",
              "0              0  \n",
              "1              1  \n",
              "2              2  \n",
              "3              3  \n",
              "4              4  \n",
              "..           ...  \n",
              "474          474  \n",
              "475          475  \n",
              "476          476  \n",
              "477          477  \n",
              "478          478  \n",
              "\n",
              "[107624 rows x 49 columns]"
            ],
            "text/html": [
              "\n",
              "  <div id=\"df-0ded70b6-72b2-4659-89ae-1f42af0cef28\">\n",
              "    <div class=\"colab-df-container\">\n",
              "      <div>\n",
              "<style scoped>\n",
              "    .dataframe tbody tr th:only-of-type {\n",
              "        vertical-align: middle;\n",
              "    }\n",
              "\n",
              "    .dataframe tbody tr th {\n",
              "        vertical-align: top;\n",
              "    }\n",
              "\n",
              "    .dataframe thead th {\n",
              "        text-align: right;\n",
              "    }\n",
              "</style>\n",
              "<table border=\"1\" class=\"dataframe\">\n",
              "  <thead>\n",
              "    <tr style=\"text-align: right;\">\n",
              "      <th></th>\n",
              "      <th>annotation_sequence</th>\n",
              "      <th>feat_A</th>\n",
              "      <th>feat_C</th>\n",
              "      <th>feat_D</th>\n",
              "      <th>feat_E</th>\n",
              "      <th>feat_F</th>\n",
              "      <th>feat_G</th>\n",
              "      <th>feat_H</th>\n",
              "      <th>feat_I</th>\n",
              "      <th>feat_K</th>\n",
              "      <th>...</th>\n",
              "      <th>feat_DSSP_9</th>\n",
              "      <th>feat_DSSP_10</th>\n",
              "      <th>feat_DSSP_11</th>\n",
              "      <th>feat_DSSP_12</th>\n",
              "      <th>feat_DSSP_13</th>\n",
              "      <th>coord_X</th>\n",
              "      <th>coord_Y</th>\n",
              "      <th>coord_Z</th>\n",
              "      <th>entry</th>\n",
              "      <th>entry_index</th>\n",
              "    </tr>\n",
              "  </thead>\n",
              "  <tbody>\n",
              "    <tr>\n",
              "      <th>0</th>\n",
              "      <td>M</td>\n",
              "      <td>False</td>\n",
              "      <td>False</td>\n",
              "      <td>False</td>\n",
              "      <td>False</td>\n",
              "      <td>False</td>\n",
              "      <td>False</td>\n",
              "      <td>False</td>\n",
              "      <td>False</td>\n",
              "      <td>False</td>\n",
              "      <td>...</td>\n",
              "      <td>0.0</td>\n",
              "      <td>0</td>\n",
              "      <td>0.0</td>\n",
              "      <td>0</td>\n",
              "      <td>0.0</td>\n",
              "      <td>33.116001</td>\n",
              "      <td>37.023998</td>\n",
              "      <td>38.417000</td>\n",
              "      <td>QCR1_HUMAN</td>\n",
              "      <td>0</td>\n",
              "    </tr>\n",
              "    <tr>\n",
              "      <th>1</th>\n",
              "      <td>A</td>\n",
              "      <td>True</td>\n",
              "      <td>False</td>\n",
              "      <td>False</td>\n",
              "      <td>False</td>\n",
              "      <td>False</td>\n",
              "      <td>False</td>\n",
              "      <td>False</td>\n",
              "      <td>False</td>\n",
              "      <td>False</td>\n",
              "      <td>...</td>\n",
              "      <td>-0.0</td>\n",
              "      <td>2</td>\n",
              "      <td>-0.0</td>\n",
              "      <td>0</td>\n",
              "      <td>0.0</td>\n",
              "      <td>35.849998</td>\n",
              "      <td>34.841000</td>\n",
              "      <td>40.185001</td>\n",
              "      <td>QCR1_HUMAN</td>\n",
              "      <td>1</td>\n",
              "    </tr>\n",
              "    <tr>\n",
              "      <th>2</th>\n",
              "      <td>A</td>\n",
              "      <td>True</td>\n",
              "      <td>False</td>\n",
              "      <td>False</td>\n",
              "      <td>False</td>\n",
              "      <td>False</td>\n",
              "      <td>False</td>\n",
              "      <td>False</td>\n",
              "      <td>False</td>\n",
              "      <td>False</td>\n",
              "      <td>...</td>\n",
              "      <td>-0.1</td>\n",
              "      <td>0</td>\n",
              "      <td>0.0</td>\n",
              "      <td>2</td>\n",
              "      <td>-0.0</td>\n",
              "      <td>37.087002</td>\n",
              "      <td>31.719999</td>\n",
              "      <td>40.547001</td>\n",
              "      <td>QCR1_HUMAN</td>\n",
              "      <td>2</td>\n",
              "    </tr>\n",
              "    <tr>\n",
              "      <th>3</th>\n",
              "      <td>S</td>\n",
              "      <td>False</td>\n",
              "      <td>False</td>\n",
              "      <td>False</td>\n",
              "      <td>False</td>\n",
              "      <td>False</td>\n",
              "      <td>False</td>\n",
              "      <td>False</td>\n",
              "      <td>False</td>\n",
              "      <td>False</td>\n",
              "      <td>...</td>\n",
              "      <td>-0.1</td>\n",
              "      <td>0</td>\n",
              "      <td>0.0</td>\n",
              "      <td>-2</td>\n",
              "      <td>-0.0</td>\n",
              "      <td>38.095001</td>\n",
              "      <td>28.951000</td>\n",
              "      <td>42.321999</td>\n",
              "      <td>QCR1_HUMAN</td>\n",
              "      <td>3</td>\n",
              "    </tr>\n",
              "    <tr>\n",
              "      <th>4</th>\n",
              "      <td>V</td>\n",
              "      <td>False</td>\n",
              "      <td>False</td>\n",
              "      <td>False</td>\n",
              "      <td>False</td>\n",
              "      <td>False</td>\n",
              "      <td>False</td>\n",
              "      <td>False</td>\n",
              "      <td>False</td>\n",
              "      <td>False</td>\n",
              "      <td>...</td>\n",
              "      <td>0.0</td>\n",
              "      <td>0</td>\n",
              "      <td>0.0</td>\n",
              "      <td>0</td>\n",
              "      <td>0.0</td>\n",
              "      <td>41.435001</td>\n",
              "      <td>27.417000</td>\n",
              "      <td>43.703999</td>\n",
              "      <td>QCR1_HUMAN</td>\n",
              "      <td>4</td>\n",
              "    </tr>\n",
              "    <tr>\n",
              "      <th>...</th>\n",
              "      <td>...</td>\n",
              "      <td>...</td>\n",
              "      <td>...</td>\n",
              "      <td>...</td>\n",
              "      <td>...</td>\n",
              "      <td>...</td>\n",
              "      <td>...</td>\n",
              "      <td>...</td>\n",
              "      <td>...</td>\n",
              "      <td>...</td>\n",
              "      <td>...</td>\n",
              "      <td>...</td>\n",
              "      <td>...</td>\n",
              "      <td>...</td>\n",
              "      <td>...</td>\n",
              "      <td>...</td>\n",
              "      <td>...</td>\n",
              "      <td>...</td>\n",
              "      <td>...</td>\n",
              "      <td>...</td>\n",
              "      <td>...</td>\n",
              "    </tr>\n",
              "    <tr>\n",
              "      <th>474</th>\n",
              "      <td>L</td>\n",
              "      <td>False</td>\n",
              "      <td>False</td>\n",
              "      <td>False</td>\n",
              "      <td>False</td>\n",
              "      <td>False</td>\n",
              "      <td>False</td>\n",
              "      <td>False</td>\n",
              "      <td>False</td>\n",
              "      <td>False</td>\n",
              "      <td>...</td>\n",
              "      <td>-0.5</td>\n",
              "      <td>-3</td>\n",
              "      <td>-0.3</td>\n",
              "      <td>-3</td>\n",
              "      <td>-0.0</td>\n",
              "      <td>47.813999</td>\n",
              "      <td>7.569000</td>\n",
              "      <td>-27.368999</td>\n",
              "      <td>PDE7A_HUMAN</td>\n",
              "      <td>474</td>\n",
              "    </tr>\n",
              "    <tr>\n",
              "      <th>475</th>\n",
              "      <td>P</td>\n",
              "      <td>False</td>\n",
              "      <td>False</td>\n",
              "      <td>False</td>\n",
              "      <td>False</td>\n",
              "      <td>False</td>\n",
              "      <td>False</td>\n",
              "      <td>False</td>\n",
              "      <td>False</td>\n",
              "      <td>False</td>\n",
              "      <td>...</td>\n",
              "      <td>-0.1</td>\n",
              "      <td>0</td>\n",
              "      <td>0.0</td>\n",
              "      <td>-3</td>\n",
              "      <td>-0.0</td>\n",
              "      <td>50.228001</td>\n",
              "      <td>8.068000</td>\n",
              "      <td>-30.333000</td>\n",
              "      <td>PDE7A_HUMAN</td>\n",
              "      <td>475</td>\n",
              "    </tr>\n",
              "    <tr>\n",
              "      <th>476</th>\n",
              "      <td>Q</td>\n",
              "      <td>False</td>\n",
              "      <td>False</td>\n",
              "      <td>False</td>\n",
              "      <td>False</td>\n",
              "      <td>False</td>\n",
              "      <td>False</td>\n",
              "      <td>False</td>\n",
              "      <td>False</td>\n",
              "      <td>False</td>\n",
              "      <td>...</td>\n",
              "      <td>-0.0</td>\n",
              "      <td>0</td>\n",
              "      <td>0.0</td>\n",
              "      <td>0</td>\n",
              "      <td>0.0</td>\n",
              "      <td>51.507999</td>\n",
              "      <td>4.896000</td>\n",
              "      <td>-31.959999</td>\n",
              "      <td>PDE7A_HUMAN</td>\n",
              "      <td>476</td>\n",
              "    </tr>\n",
              "    <tr>\n",
              "      <th>477</th>\n",
              "      <td>E</td>\n",
              "      <td>False</td>\n",
              "      <td>False</td>\n",
              "      <td>False</td>\n",
              "      <td>True</td>\n",
              "      <td>False</td>\n",
              "      <td>False</td>\n",
              "      <td>False</td>\n",
              "      <td>False</td>\n",
              "      <td>False</td>\n",
              "      <td>...</td>\n",
              "      <td>0.0</td>\n",
              "      <td>0</td>\n",
              "      <td>0.0</td>\n",
              "      <td>0</td>\n",
              "      <td>0.0</td>\n",
              "      <td>54.845001</td>\n",
              "      <td>6.372000</td>\n",
              "      <td>-33.125000</td>\n",
              "      <td>PDE7A_HUMAN</td>\n",
              "      <td>477</td>\n",
              "    </tr>\n",
              "    <tr>\n",
              "      <th>478</th>\n",
              "      <td>N</td>\n",
              "      <td>False</td>\n",
              "      <td>False</td>\n",
              "      <td>False</td>\n",
              "      <td>False</td>\n",
              "      <td>False</td>\n",
              "      <td>False</td>\n",
              "      <td>False</td>\n",
              "      <td>False</td>\n",
              "      <td>False</td>\n",
              "      <td>...</td>\n",
              "      <td>0.0</td>\n",
              "      <td>0</td>\n",
              "      <td>0.0</td>\n",
              "      <td>0</td>\n",
              "      <td>0.0</td>\n",
              "      <td>57.796001</td>\n",
              "      <td>4.322000</td>\n",
              "      <td>-34.160000</td>\n",
              "      <td>PDE7A_HUMAN</td>\n",
              "      <td>478</td>\n",
              "    </tr>\n",
              "  </tbody>\n",
              "</table>\n",
              "<p>107624 rows × 49 columns</p>\n",
              "</div>\n",
              "      <button class=\"colab-df-convert\" onclick=\"convertToInteractive('df-0ded70b6-72b2-4659-89ae-1f42af0cef28')\"\n",
              "              title=\"Convert this dataframe to an interactive table.\"\n",
              "              style=\"display:none;\">\n",
              "        \n",
              "  <svg xmlns=\"http://www.w3.org/2000/svg\" height=\"24px\"viewBox=\"0 0 24 24\"\n",
              "       width=\"24px\">\n",
              "    <path d=\"M0 0h24v24H0V0z\" fill=\"none\"/>\n",
              "    <path d=\"M18.56 5.44l.94 2.06.94-2.06 2.06-.94-2.06-.94-.94-2.06-.94 2.06-2.06.94zm-11 1L8.5 8.5l.94-2.06 2.06-.94-2.06-.94L8.5 2.5l-.94 2.06-2.06.94zm10 10l.94 2.06.94-2.06 2.06-.94-2.06-.94-.94-2.06-.94 2.06-2.06.94z\"/><path d=\"M17.41 7.96l-1.37-1.37c-.4-.4-.92-.59-1.43-.59-.52 0-1.04.2-1.43.59L10.3 9.45l-7.72 7.72c-.78.78-.78 2.05 0 2.83L4 21.41c.39.39.9.59 1.41.59.51 0 1.02-.2 1.41-.59l7.78-7.78 2.81-2.81c.8-.78.8-2.07 0-2.86zM5.41 20L4 18.59l7.72-7.72 1.47 1.35L5.41 20z\"/>\n",
              "  </svg>\n",
              "      </button>\n",
              "      \n",
              "  <style>\n",
              "    .colab-df-container {\n",
              "      display:flex;\n",
              "      flex-wrap:wrap;\n",
              "      gap: 12px;\n",
              "    }\n",
              "\n",
              "    .colab-df-convert {\n",
              "      background-color: #E8F0FE;\n",
              "      border: none;\n",
              "      border-radius: 50%;\n",
              "      cursor: pointer;\n",
              "      display: none;\n",
              "      fill: #1967D2;\n",
              "      height: 32px;\n",
              "      padding: 0 0 0 0;\n",
              "      width: 32px;\n",
              "    }\n",
              "\n",
              "    .colab-df-convert:hover {\n",
              "      background-color: #E2EBFA;\n",
              "      box-shadow: 0px 1px 2px rgba(60, 64, 67, 0.3), 0px 1px 3px 1px rgba(60, 64, 67, 0.15);\n",
              "      fill: #174EA6;\n",
              "    }\n",
              "\n",
              "    [theme=dark] .colab-df-convert {\n",
              "      background-color: #3B4455;\n",
              "      fill: #D2E3FC;\n",
              "    }\n",
              "\n",
              "    [theme=dark] .colab-df-convert:hover {\n",
              "      background-color: #434B5C;\n",
              "      box-shadow: 0px 1px 3px 1px rgba(0, 0, 0, 0.15);\n",
              "      filter: drop-shadow(0px 1px 2px rgba(0, 0, 0, 0.3));\n",
              "      fill: #FFFFFF;\n",
              "    }\n",
              "  </style>\n",
              "\n",
              "      <script>\n",
              "        const buttonEl =\n",
              "          document.querySelector('#df-0ded70b6-72b2-4659-89ae-1f42af0cef28 button.colab-df-convert');\n",
              "        buttonEl.style.display =\n",
              "          google.colab.kernel.accessAllowed ? 'block' : 'none';\n",
              "\n",
              "        async function convertToInteractive(key) {\n",
              "          const element = document.querySelector('#df-0ded70b6-72b2-4659-89ae-1f42af0cef28');\n",
              "          const dataTable =\n",
              "            await google.colab.kernel.invokeFunction('convertToInteractive',\n",
              "                                                     [key], {});\n",
              "          if (!dataTable) return;\n",
              "\n",
              "          const docLinkHtml = 'Like what you see? Visit the ' +\n",
              "            '<a target=\"_blank\" href=https://colab.research.google.com/notebooks/data_table.ipynb>data table notebook</a>'\n",
              "            + ' to learn more about interactive tables.';\n",
              "          element.innerHTML = '';\n",
              "          dataTable['output_type'] = 'display_data';\n",
              "          await google.colab.output.renderOutput(dataTable, element);\n",
              "          const docLink = document.createElement('div');\n",
              "          docLink.innerHTML = docLinkHtml;\n",
              "          element.appendChild(docLink);\n",
              "        }\n",
              "      </script>\n",
              "    </div>\n",
              "  </div>\n",
              "  "
            ]
          },
          "metadata": {},
          "execution_count": 125
        }
      ],
      "source": [
        "df_test = pd.read_csv(\"/content/drive/MyDrive/af2_dataset_testset_unlabeled.csv.gz\", index_col=0)\n",
        "df_test"
      ]
    },
    {
      "cell_type": "code",
      "source": [
        "df_test = df_test.drop(columns =['annotation_atomrec','annotation_sequence','entry', 'entry_index','feat_C', 'feat_D', 'feat_I', 'feat_K', 'feat_T', 'feat_V', 'feat_DSSP_12', 'feat_THETA'], axis = 1)"
      ],
      "metadata": {
        "id": "speDOd6Qwhow"
      },
      "id": "speDOd6Qwhow",
      "execution_count": 126,
      "outputs": []
    },
    {
      "cell_type": "code",
      "source": [
        "df_test = df_test.applymap(lambda x: 1 if x == True else x)\n",
        "df_test = df_test.applymap(lambda x: 0 if x == False else x)\n",
        "df_test[df_test.feat_SCSASA < 0] = 0"
      ],
      "metadata": {
        "id": "lflDc-qYwpqp"
      },
      "id": "lflDc-qYwpqp",
      "execution_count": 129,
      "outputs": []
    },
    {
      "cell_type": "code",
      "execution_count": 133,
      "id": "e40c7d36",
      "metadata": {
        "id": "e40c7d36"
      },
      "outputs": [],
      "source": [
        "y_test_submission = BRFC_final.predict(df_test)"
      ]
    },
    {
      "cell_type": "code",
      "execution_count": 140,
      "id": "e01d0dda",
      "metadata": {
        "id": "e01d0dda"
      },
      "outputs": [],
      "source": [
        "s = pd.Series(y_test_submission).astype(bool)\n",
        "s.name = \"Predicted\"\n",
        "s.to_csv(\"submission.csv\")"
      ]
    },
    {
      "cell_type": "code",
      "source": [],
      "metadata": {
        "id": "oGdTXL17xoti"
      },
      "id": "oGdTXL17xoti",
      "execution_count": null,
      "outputs": []
    }
  ],
  "metadata": {
    "kernelspec": {
      "display_name": "Python 3 (ipykernel)",
      "language": "python",
      "name": "python3"
    },
    "language_info": {
      "codemirror_mode": {
        "name": "ipython",
        "version": 3
      },
      "file_extension": ".py",
      "mimetype": "text/x-python",
      "name": "python",
      "nbconvert_exporter": "python",
      "pygments_lexer": "ipython3",
      "version": "3.10.6"
    },
    "colab": {
      "provenance": [],
      "include_colab_link": true
    }
  },
  "nbformat": 4,
  "nbformat_minor": 5
}